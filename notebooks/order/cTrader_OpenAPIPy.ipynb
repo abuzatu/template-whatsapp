{
 "cells": [
  {
   "cell_type": "markdown",
   "id": "df307256",
   "metadata": {},
   "source": [
    "# From here\n",
    "\n",
    "https://spotware.github.io/OpenApiPy/"
   ]
  },
  {
   "cell_type": "code",
   "execution_count": null,
   "id": "f1792c44",
   "metadata": {},
   "outputs": [],
   "source": [
    "from ctrader_open_api import Client, Protobuf, TcpProtocol, Auth, EndPoints\n",
    "from ctrader_open_api.messages.OpenApiCommonMessages_pb2 import *\n",
    "from ctrader_open_api.messages.OpenApiCommonMessages_pb2 import *\n",
    "from ctrader_open_api.messages.OpenApiMessages_pb2 import *\n",
    "from ctrader_open_api.messages.OpenApiModelMessages_pb2 import *\n",
    "from twisted.internet import reactor"
   ]
  },
  {
   "cell_type": "code",
   "execution_count": null,
   "id": "c832b39d",
   "metadata": {},
   "outputs": [],
   "source": [
    "hostType = input(\"Host (Live/Demo): \")"
   ]
  },
  {
   "cell_type": "code",
   "execution_count": null,
   "id": "03bd2700",
   "metadata": {},
   "outputs": [],
   "source": [
    "hostType, type(hostType)"
   ]
  },
  {
   "cell_type": "code",
   "execution_count": null,
   "id": "e9450808",
   "metadata": {},
   "outputs": [],
   "source": [
    "host = EndPoints.PROTOBUF_LIVE_HOST if hostType.lower() == \"live\" else EndPoints.PROTOBUF_DEMO_HOST\n",
    "host"
   ]
  },
  {
   "cell_type": "code",
   "execution_count": null,
   "id": "ae95e729",
   "metadata": {},
   "outputs": [],
   "source": [
    "# host = \"78.129.190.32\"\n",
    "host"
   ]
  },
  {
   "cell_type": "code",
   "execution_count": null,
   "id": "f9cf6ce1",
   "metadata": {},
   "outputs": [],
   "source": [
    "client = Client(host, EndPoints.PROTOBUF_PORT, TcpProtocol)\n",
    "client"
   ]
  },
  {
   "cell_type": "code",
   "execution_count": null,
   "id": "fa5856a7",
   "metadata": {},
   "outputs": [],
   "source": []
  }
 ],
 "metadata": {
  "kernelspec": {
   "display_name": "Python 3 (ipykernel)",
   "language": "python",
   "name": "python3"
  },
  "language_info": {
   "codemirror_mode": {
    "name": "ipython",
    "version": 3
   },
   "file_extension": ".py",
   "mimetype": "text/x-python",
   "name": "python",
   "nbconvert_exporter": "python",
   "pygments_lexer": "ipython3",
   "version": "3.11.2"
  }
 },
 "nbformat": 4,
 "nbformat_minor": 5
}
