{
 "cells": [
  {
   "cell_type": "markdown",
   "id": "55e9cb6f",
   "metadata": {},
   "source": [
    "# Check parsing of messages for different signal providers"
   ]
  },
  {
   "cell_type": "code",
   "execution_count": null,
   "id": "b99d6901",
   "metadata": {},
   "outputs": [],
   "source": [
    "# python\n",
    "import numpy as np\n",
    "\n",
    "# our modules\n",
    "from trading.parse_InvestorsWizard import Parse_InvestorsWizard\n",
    "from trading.parse_PipsGainer import Parse_PipsGainer\n",
    "from trading.parse_ParamountInfoTech import Parse_ParamountInfoTech\n",
    "\n",
    "# allow to use an updated module and use the change directly by refreshing the cell\n",
    "# without having to restart the entire notebook\n",
    "%load_ext autoreload\n",
    "%autoreload 2"
   ]
  },
  {
   "cell_type": "markdown",
   "id": "16a168ec",
   "metadata": {},
   "source": [
    "# Investors Wizard"
   ]
  },
  {
   "cell_type": "code",
   "execution_count": null,
   "id": "6a1bdb2f",
   "metadata": {},
   "outputs": [],
   "source": [
    "p = Parse_InvestorsWizard()\n",
    "p"
   ]
  },
  {
   "cell_type": "code",
   "execution_count": null,
   "id": "7b82f485",
   "metadata": {},
   "outputs": [],
   "source": [
    "p.examples"
   ]
  },
  {
   "cell_type": "code",
   "execution_count": null,
   "id": "8e54b980",
   "metadata": {},
   "outputs": [],
   "source": [
    "p.fit_examples()"
   ]
  },
  {
   "cell_type": "markdown",
   "id": "cb4cc5ce",
   "metadata": {},
   "source": [
    "# Pips Gainer"
   ]
  },
  {
   "cell_type": "code",
   "execution_count": null,
   "id": "ac0382be",
   "metadata": {},
   "outputs": [],
   "source": [
    "p = Parse_PipsGainer()\n",
    "p"
   ]
  },
  {
   "cell_type": "code",
   "execution_count": null,
   "id": "258875e2",
   "metadata": {},
   "outputs": [],
   "source": [
    "p.examples"
   ]
  },
  {
   "cell_type": "code",
   "execution_count": null,
   "id": "e519bc5d",
   "metadata": {},
   "outputs": [],
   "source": [
    "p.fit_examples()"
   ]
  },
  {
   "cell_type": "markdown",
   "id": "d6ce49d1",
   "metadata": {},
   "source": [
    "# Paramount InfoTech"
   ]
  },
  {
   "cell_type": "code",
   "execution_count": null,
   "id": "587e03e3",
   "metadata": {},
   "outputs": [],
   "source": [
    "p = (\n",
    "    # Parse_InvestorsWizard()\n",
    "    # Parse_PipsGainer()\n",
    "    Parse_ParamountInfoTech()\n",
    ")\n",
    "p"
   ]
  },
  {
   "cell_type": "code",
   "execution_count": null,
   "id": "0909abe8",
   "metadata": {},
   "outputs": [],
   "source": [
    "p.examples"
   ]
  },
  {
   "cell_type": "code",
   "execution_count": null,
   "id": "09805a11",
   "metadata": {},
   "outputs": [],
   "source": [
    "p.fit_examples()"
   ]
  },
  {
   "cell_type": "code",
   "execution_count": null,
   "id": "a871301d",
   "metadata": {},
   "outputs": [],
   "source": [
    "p.examples[0]"
   ]
  },
  {
   "cell_type": "code",
   "execution_count": null,
   "id": "2289362e",
   "metadata": {},
   "outputs": [],
   "source": [
    "t =  \"\"\"\n",
    "            Sell... Gbp/Cad....@1.69131...\n",
    "            Target=1.68330... StopLoss=1.69907\n",
    "\n",
    "            Buy..... Aud/Nzd...@1.07293..\n",
    "            Target=1.08141... StopLoss=1.06465\n",
    "            \"\"\"\n",
    "t"
   ]
  },
  {
   "cell_type": "code",
   "execution_count": null,
   "id": "4288d391",
   "metadata": {},
   "outputs": [],
   "source": [
    "t=\"MODIFY TRAGET PRICE AT 33580.2 IN US30\""
   ]
  },
  {
   "cell_type": "code",
   "execution_count": null,
   "id": "b658a57f",
   "metadata": {
    "scrolled": true
   },
   "outputs": [],
   "source": [
    "orders = p.fit(t)\n",
    "orders"
   ]
  },
  {
   "cell_type": "code",
   "execution_count": null,
   "id": "70122ba0",
   "metadata": {},
   "outputs": [],
   "source": [
    "for o in orders:\n",
    "    print(\"new order\")\n",
    "    print(o)"
   ]
  },
  {
   "cell_type": "code",
   "execution_count": null,
   "id": "07543a01",
   "metadata": {},
   "outputs": [],
   "source": []
  },
  {
   "cell_type": "code",
   "execution_count": null,
   "id": "418dab91",
   "metadata": {},
   "outputs": [],
   "source": [
    "o = p.fit(p.examples[0])\n",
    "o"
   ]
  },
  {
   "cell_type": "code",
   "execution_count": null,
   "id": "269ac3e0",
   "metadata": {},
   "outputs": [],
   "source": [
    "print(o)"
   ]
  },
  {
   "cell_type": "code",
   "execution_count": null,
   "id": "b108b876",
   "metadata": {},
   "outputs": [],
   "source": [
    "p.fit_examples()"
   ]
  },
  {
   "cell_type": "code",
   "execution_count": null,
   "id": "3d212911",
   "metadata": {},
   "outputs": [],
   "source": []
  }
 ],
 "metadata": {
  "kernelspec": {
   "display_name": "Python 3 (ipykernel)",
   "language": "python",
   "name": "python3"
  },
  "language_info": {
   "codemirror_mode": {
    "name": "ipython",
    "version": 3
   },
   "file_extension": ".py",
   "mimetype": "text/x-python",
   "name": "python",
   "nbconvert_exporter": "python",
   "pygments_lexer": "ipython3",
   "version": "3.11.2"
  }
 },
 "nbformat": 4,
 "nbformat_minor": 5
}
