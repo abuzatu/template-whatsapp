{
 "cells": [
  {
   "cell_type": "markdown",
   "id": "4303e3b4",
   "metadata": {},
   "source": [
    "# Check parsing of messages for different signal providers"
   ]
  },
  {
   "cell_type": "code",
   "execution_count": null,
   "id": "46d1ca74",
   "metadata": {},
   "outputs": [],
   "source": [
    "# python\n",
    "import numpy as np\n",
    "\n",
    "# our modules\n",
    "from trading.parse_InvestorsWizard import Parse_InvestorsWizard\n",
    "from trading.parse_PipsGainer import Parse_PipsGainer\n",
    "from trading.parse_ParamountInfoTech import Parse_ParamountInfoTech\n",
    "\n",
    "# allow to use an updated module and use the change directly by refreshing the cell\n",
    "# without having to restart the entire notebook\n",
    "%load_ext autoreload\n",
    "%autoreload 2"
   ]
  },
  {
   "cell_type": "markdown",
   "id": "c6d34301",
   "metadata": {},
   "source": [
    "# Investors Wizard"
   ]
  },
  {
   "cell_type": "code",
   "execution_count": null,
   "id": "028fc96f",
   "metadata": {},
   "outputs": [],
   "source": [
    "p = Parse_InvestorsWizard()\n",
    "p"
   ]
  },
  {
   "cell_type": "code",
   "execution_count": null,
   "id": "7c7b69bc",
   "metadata": {},
   "outputs": [],
   "source": [
    "p.examples"
   ]
  },
  {
   "cell_type": "code",
   "execution_count": null,
   "id": "04314372",
   "metadata": {},
   "outputs": [],
   "source": [
    "p.fit_examples()"
   ]
  },
  {
   "cell_type": "markdown",
   "id": "ca972bf1",
   "metadata": {},
   "source": [
    "# Pips Gainer"
   ]
  },
  {
   "cell_type": "code",
   "execution_count": null,
   "id": "1450ff53",
   "metadata": {},
   "outputs": [],
   "source": [
    "p = Parse_PipsGainer()\n",
    "p"
   ]
  },
  {
   "cell_type": "code",
   "execution_count": null,
   "id": "e36c7311",
   "metadata": {},
   "outputs": [],
   "source": [
    "p.examples"
   ]
  },
  {
   "cell_type": "code",
   "execution_count": null,
   "id": "6be6f3e5",
   "metadata": {},
   "outputs": [],
   "source": [
    "p.fit_examples()"
   ]
  },
  {
   "cell_type": "markdown",
   "id": "9f2f49e3",
   "metadata": {},
   "source": [
    "# Paramount InfoTech"
   ]
  },
  {
   "cell_type": "code",
   "execution_count": null,
   "id": "4360a54c",
   "metadata": {},
   "outputs": [],
   "source": [
    "p = (\n",
    "    # Parse_InvestorsWizard()\n",
    "    # Parse_PipsGainer()\n",
    "    Parse_ParamountInfoTech()\n",
    ")\n",
    "p"
   ]
  },
  {
   "cell_type": "code",
   "execution_count": null,
   "id": "65a024a7",
   "metadata": {},
   "outputs": [],
   "source": [
    "p.examples"
   ]
  },
  {
   "cell_type": "code",
   "execution_count": null,
   "id": "87382b06",
   "metadata": {},
   "outputs": [],
   "source": [
    "p.examples[0]"
   ]
  },
  {
   "cell_type": "code",
   "execution_count": null,
   "id": "2d50f859",
   "metadata": {},
   "outputs": [],
   "source": [
    "t =  \"\"\"\n",
    "            Sell... Gbp/Cad....@1.69131...\n",
    "            Target=1.68330... StopLoss=1.69907\n",
    "\n",
    "            Buy..... Aud/Nzd...@1.07293..\n",
    "            Target=1.08141... StopLoss=1.06465\n",
    "            \"\"\"\n",
    "t"
   ]
  },
  {
   "cell_type": "code",
   "execution_count": null,
   "id": "3792ffa8",
   "metadata": {
    "scrolled": true
   },
   "outputs": [],
   "source": [
    "orders = p.fit(t)\n",
    "orders"
   ]
  },
  {
   "cell_type": "code",
   "execution_count": null,
   "id": "e2684f3b",
   "metadata": {},
   "outputs": [],
   "source": [
    "for o in orders:\n",
    "    print(\"new order\")\n",
    "    print(o)"
   ]
  },
  {
   "cell_type": "code",
   "execution_count": null,
   "id": "203d764e",
   "metadata": {},
   "outputs": [],
   "source": []
  },
  {
   "cell_type": "code",
   "execution_count": null,
   "id": "a979ae1d",
   "metadata": {},
   "outputs": [],
   "source": [
    "o = p.fit(p.examples[0])\n",
    "o"
   ]
  },
  {
   "cell_type": "code",
   "execution_count": null,
   "id": "dd2f483e",
   "metadata": {},
   "outputs": [],
   "source": [
    "print(o)"
   ]
  },
  {
   "cell_type": "code",
   "execution_count": null,
   "id": "5c0a6560",
   "metadata": {},
   "outputs": [],
   "source": [
    "p.fit_examples()"
   ]
  },
  {
   "cell_type": "code",
   "execution_count": null,
   "id": "a411f987",
   "metadata": {},
   "outputs": [],
   "source": []
  }
 ],
 "metadata": {
  "kernelspec": {
   "display_name": "Python 3 (ipykernel)",
   "language": "python",
   "name": "python3"
  },
  "language_info": {
   "codemirror_mode": {
    "name": "ipython",
    "version": 3
   },
   "file_extension": ".py",
   "mimetype": "text/x-python",
   "name": "python",
   "nbconvert_exporter": "python",
   "pygments_lexer": "ipython3",
   "version": "3.11.2"
  }
 },
 "nbformat": 4,
 "nbformat_minor": 5
}
