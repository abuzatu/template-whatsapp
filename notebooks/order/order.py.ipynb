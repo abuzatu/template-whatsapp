{
 "cells": [
  {
   "cell_type": "markdown",
   "id": "4fa634fd",
   "metadata": {},
   "source": [
    "# Check parsing of messages for different signal providers"
   ]
  },
  {
   "cell_type": "code",
   "execution_count": null,
   "id": "de4ee963",
   "metadata": {},
   "outputs": [],
   "source": [
    "# python\n",
    "import numpy as np\n",
    "\n",
    "# our modules\n",
    "from trading.parse_InvestorsWizard import Parse_InvestorsWizard\n",
    "from trading.parse_PipsGainer import Parse_PipsGainer\n",
    "#from trading.parse_ParamountInfoTech import Parse_ParamountInfoTech\n",
    "\n",
    "# allow to use an updated module and use the change directly by refreshing the cell\n",
    "# without having to restart the entire notebook\n",
    "%load_ext autoreload\n",
    "%autoreload 2"
   ]
  },
  {
   "cell_type": "code",
   "execution_count": null,
   "id": "f4c740f5",
   "metadata": {},
   "outputs": [],
   "source": [
    "p = (\n",
    "    # Parse_InvestorsWizard()\n",
    "    Parse_PipsGainer()\n",
    "    # Order_ParamountInfoTech()\n",
    ")\n",
    "p"
   ]
  },
  {
   "cell_type": "code",
   "execution_count": null,
   "id": "015ca595",
   "metadata": {},
   "outputs": [],
   "source": [
    "p.examples"
   ]
  },
  {
   "cell_type": "code",
   "execution_count": null,
   "id": "f0ef5fd7",
   "metadata": {},
   "outputs": [],
   "source": [
    "p.examples[0]"
   ]
  },
  {
   "cell_type": "code",
   "execution_count": null,
   "id": "821004e9",
   "metadata": {},
   "outputs": [],
   "source": [
    "o = p.fit(p.examples[0])\n",
    "o"
   ]
  },
  {
   "cell_type": "code",
   "execution_count": null,
   "id": "68d44188",
   "metadata": {},
   "outputs": [],
   "source": [
    "print(o)"
   ]
  },
  {
   "cell_type": "code",
   "execution_count": null,
   "id": "25e9ccf6",
   "metadata": {},
   "outputs": [],
   "source": [
    "p.fit_examples()"
   ]
  },
  {
   "cell_type": "code",
   "execution_count": null,
   "id": "58ec797c",
   "metadata": {},
   "outputs": [],
   "source": []
  }
 ],
 "metadata": {
  "kernelspec": {
   "display_name": "Python 3 (ipykernel)",
   "language": "python",
   "name": "python3"
  },
  "language_info": {
   "codemirror_mode": {
    "name": "ipython",
    "version": 3
   },
   "file_extension": ".py",
   "mimetype": "text/x-python",
   "name": "python",
   "nbconvert_exporter": "python",
   "pygments_lexer": "ipython3",
   "version": "3.11.2"
  }
 },
 "nbformat": 4,
 "nbformat_minor": 5
}
