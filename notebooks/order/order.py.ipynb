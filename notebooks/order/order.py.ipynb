{
 "cells": [
  {
   "cell_type": "markdown",
   "id": "463a5133",
   "metadata": {},
   "source": [
    "# Check parsing of messages for different signal providers"
   ]
  },
  {
   "cell_type": "code",
   "execution_count": null,
   "id": "d345acb2",
   "metadata": {},
   "outputs": [],
   "source": [
    "# python\n",
    "import numpy as np\n",
    "\n",
    "# our modules\n",
    "from trading.order_InvestorsWizard import Order_InvestorsWizard\n",
    "from trading.order_PipsGainer import Order_PipsGainer\n",
    "from trading.order_ParamountInfoTech import Order_ParamountInfoTech\n",
    "\n",
    "# allow to use an updated module and use the change directly by refreshing the cell\n",
    "# without having to restart the entire notebook\n",
    "%load_ext autoreload\n",
    "%autoreload 2"
   ]
  },
  {
   "cell_type": "code",
   "execution_count": null,
   "id": "76c81a28",
   "metadata": {},
   "outputs": [],
   "source": [
    "o = (\n",
    "    # Order_InvestorsWizard()\n",
    "    # Order_PipsGainer()\n",
    "    Order_ParamountInfoTech()\n",
    ")\n",
    "o"
   ]
  },
  {
   "cell_type": "code",
   "execution_count": null,
   "id": "540c4083",
   "metadata": {},
   "outputs": [],
   "source": [
    "o.examples"
   ]
  },
  {
   "cell_type": "code",
   "execution_count": null,
   "id": "73209275",
   "metadata": {},
   "outputs": [],
   "source": [
    "o.fit_examples()"
   ]
  },
  {
   "cell_type": "code",
   "execution_count": null,
   "id": "36775389",
   "metadata": {},
   "outputs": [],
   "source": []
  }
 ],
 "metadata": {
  "kernelspec": {
   "display_name": "Python 3 (ipykernel)",
   "language": "python",
   "name": "python3"
  },
  "language_info": {
   "codemirror_mode": {
    "name": "ipython",
    "version": 3
   },
   "file_extension": ".py",
   "mimetype": "text/x-python",
   "name": "python",
   "nbconvert_exporter": "python",
   "pygments_lexer": "ipython3",
   "version": "3.11.2"
  }
 },
 "nbformat": 4,
 "nbformat_minor": 5
}
