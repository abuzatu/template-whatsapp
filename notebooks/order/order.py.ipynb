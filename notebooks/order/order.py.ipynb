{
 "cells": [
  {
   "cell_type": "markdown",
   "id": "8e7ae4e5",
   "metadata": {},
   "source": [
    "# Check parsing of messages for different signal providers"
   ]
  },
  {
   "cell_type": "code",
   "execution_count": null,
   "id": "0aea2ade",
   "metadata": {},
   "outputs": [],
   "source": [
    "# python\n",
    "import numpy as np\n",
    "\n",
    "# our modules\n",
    "from trading.parse_InvestorsWizard import Parse_InvestorsWizard\n",
    "#from trading.parse_PipsGainer import Parse_PipsGainer\n",
    "#from trading.parse_ParamountInfoTech import Parse_ParamountInfoTech\n",
    "\n",
    "# allow to use an updated module and use the change directly by refreshing the cell\n",
    "# without having to restart the entire notebook\n",
    "%load_ext autoreload\n",
    "%autoreload 2"
   ]
  },
  {
   "cell_type": "code",
   "execution_count": null,
   "id": "43376944",
   "metadata": {},
   "outputs": [],
   "source": [
    "p = (\n",
    "    Parse_InvestorsWizard()\n",
    "    # Order_PipsGainer()\n",
    "    # Order_ParamountInfoTech()\n",
    ")\n",
    "p"
   ]
  },
  {
   "cell_type": "code",
   "execution_count": null,
   "id": "e2f77bf5",
   "metadata": {},
   "outputs": [],
   "source": [
    "p.examples"
   ]
  },
  {
   "cell_type": "code",
   "execution_count": null,
   "id": "a157faca",
   "metadata": {},
   "outputs": [],
   "source": [
    "p.examples[0]"
   ]
  },
  {
   "cell_type": "code",
   "execution_count": null,
   "id": "24c1ee7b",
   "metadata": {},
   "outputs": [],
   "source": [
    "o = p.fit(p.examples[0])\n",
    "o"
   ]
  },
  {
   "cell_type": "code",
   "execution_count": null,
   "id": "ad0111b5",
   "metadata": {},
   "outputs": [],
   "source": [
    "print(o)"
   ]
  },
  {
   "cell_type": "code",
   "execution_count": null,
   "id": "a3a6e242",
   "metadata": {},
   "outputs": [],
   "source": [
    "p.fit_examples()"
   ]
  }
 ],
 "metadata": {
  "kernelspec": {
   "display_name": "Python 3 (ipykernel)",
   "language": "python",
   "name": "python3"
  },
  "language_info": {
   "codemirror_mode": {
    "name": "ipython",
    "version": 3
   },
   "file_extension": ".py",
   "mimetype": "text/x-python",
   "name": "python",
   "nbconvert_exporter": "python",
   "pygments_lexer": "ipython3",
   "version": "3.11.2"
  }
 },
 "nbformat": 4,
 "nbformat_minor": 5
}
