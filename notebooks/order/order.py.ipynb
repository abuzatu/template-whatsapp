{
 "cells": [
  {
   "cell_type": "markdown",
   "id": "213b7343",
   "metadata": {},
   "source": [
    "# Check parsing of messages for different signal providers"
   ]
  },
  {
   "cell_type": "code",
   "execution_count": 4,
   "id": "f3f1b460",
   "metadata": {},
   "outputs": [
    {
     "name": "stdout",
     "output_type": "stream",
     "text": [
      "The autoreload extension is already loaded. To reload it, use:\n",
      "  %reload_ext autoreload\n"
     ]
    }
   ],
   "source": [
    "# python\n",
    "import numpy as np\n",
    "\n",
    "# our modules\n",
    "from trading.order_InvestorsWizard import Order_InvestorsWizard\n",
    "from trading.order_PipsGainer import Order_PipsGainer\n",
    "\n",
    "# allow to use an updated module and use the change directly by refreshing the cell\n",
    "# without having to restart the entire notebook\n",
    "%load_ext autoreload\n",
    "%autoreload 2"
   ]
  },
  {
   "cell_type": "code",
   "execution_count": 5,
   "id": "f1fe19e6",
   "metadata": {},
   "outputs": [
    {
     "data": {
      "text/plain": [
       "<trading.order_PipsGainer.Order_PipsGainer at 0xffff615e6f10>"
      ]
     },
     "execution_count": 5,
     "metadata": {},
     "output_type": "execute_result"
    }
   ],
   "source": [
    "o = (\n",
    "    # Order_InvestorsWizard()\n",
    "    Order_PipsGainer()\n",
    ")\n",
    "o"
   ]
  },
  {
   "cell_type": "code",
   "execution_count": 6,
   "id": "51d7403e",
   "metadata": {},
   "outputs": [
    {
     "name": "stdout",
     "output_type": "stream",
     "text": [
      "\n",
      "segment=FOREX, action=open, type=entry, direction=buy, symbol=NZDCAD, CMP=0.7983, EPs=[0.7985], SL=0.7945, TPs=[0.8015], \n",
      "\n",
      "segment=FOREX, action=open, type=entry, direction=buy, symbol=NZDCAD, CMP=0.7983, EPs=[0.7985], SL=0.7945, TPs=[0.8015], \n",
      "\n",
      "segment=FOREX, action=open, type=entry, direction=sell, symbol=USDCAD, CMP=1.3251, EPs=[1.3245], SL=1.329, TPs=[1.323], \n",
      "\n",
      "segment=FOREX, action=open, type=entry, direction=buy, symbol=NZDJPY, CMP=85.43, EPs=[85.45], SL=85.0, TPs=[85.75], \n",
      "\n",
      "segment=COMEX, action=open, type=entry, direction=sell, symbol=XAUUSD, CMP=1776.6, EPs=[1777.0], SL=1784.0, TPs=[1770.0], \n",
      "\n",
      "segment=COMEX, action=open, type=entry, direction=sell, symbol=USOilSpot, CMP=80.08, EPs=[80.0], SL=81.0, TPs=[79.0], \n",
      "\n",
      "segment=None, action=None, type=None, direction=None, symbol=None, CMP=None, EPs=[], SL=None, TPs=[], \n",
      "\n",
      "segment=None, action=None, type=None, direction=None, symbol=None, CMP=None, EPs=[], SL=None, TPs=[], \n",
      "\n",
      "segment=None, action=None, type=None, direction=None, symbol=None, CMP=None, EPs=[], SL=None, TPs=[], \n"
     ]
    }
   ],
   "source": [
    "o.fit_examples()"
   ]
  },
  {
   "cell_type": "code",
   "execution_count": null,
   "id": "6c85defc",
   "metadata": {},
   "outputs": [],
   "source": []
  }
 ],
 "metadata": {
  "kernelspec": {
   "display_name": "Python 3 (ipykernel)",
   "language": "python",
   "name": "python3"
  },
  "language_info": {
   "codemirror_mode": {
    "name": "ipython",
    "version": 3
   },
   "file_extension": ".py",
   "mimetype": "text/x-python",
   "name": "python",
   "nbconvert_exporter": "python",
   "pygments_lexer": "ipython3",
   "version": "3.11.2"
  }
 },
 "nbformat": 4,
 "nbformat_minor": 5
}
