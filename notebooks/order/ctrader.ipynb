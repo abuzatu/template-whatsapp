{
 "cells": [
  {
   "cell_type": "markdown",
   "id": "d5a70356",
   "metadata": {},
   "source": [
    "# Notebook to test quotes and trades in CTrader"
   ]
  },
  {
   "cell_type": "code",
   "execution_count": null,
   "id": "db197cd2",
   "metadata": {},
   "outputs": [],
   "source": [
    "# python\n",
    "from datetime import datetime\n",
    "import json\n",
    "import numpy as np\n",
    "from pprint import pformat\n",
    "import time\n",
    "\n",
    "# our modules\n",
    "from ctrader.ctrader import CTrader\n",
    "# be careful to include from demo\n",
    "from configs.ctrader_demo import (HOST, SENDER_COMP_ID, PASSWORD, CURRENCY, CLIENT_ID, DEBUG)\n",
    "\n",
    "# allow to use an updated module and use the change directly by refreshing the cell\n",
    "# without having to restart the entire notebook\n",
    "%load_ext autoreload\n",
    "%autoreload 2"
   ]
  },
  {
   "cell_type": "code",
   "execution_count": null,
   "id": "2fdf0c46",
   "metadata": {},
   "outputs": [],
   "source": [
    "# check\n",
    "HOST, SENDER_COMP_ID, PASSWORD, CURRENCY, CLIENT_ID, DEBUG"
   ]
  },
  {
   "cell_type": "code",
   "execution_count": null,
   "id": "54dbaea9",
   "metadata": {},
   "outputs": [],
   "source": [
    "if \"live\" in SENDER_COMP_ID:\n",
    "    print(\"You are using a LIVE account! Use a demo account for this test!\")\n",
    "    assert False"
   ]
  },
  {
   "cell_type": "code",
   "execution_count": null,
   "id": "54eae5c3",
   "metadata": {},
   "outputs": [],
   "source": [
    "# build trader object\n",
    "api = CTrader(\n",
    "    server=HOST,\n",
    "    account=SENDER_COMP_ID,\n",
    "    password=PASSWORD,\n",
    "    currency=CURRENCY,\n",
    "    client_id=CLIENT_ID,\n",
    "    debug=DEBUG,\n",
    ")\n",
    "api"
   ]
  },
  {
   "cell_type": "code",
   "execution_count": null,
   "id": "99173a4e",
   "metadata": {},
   "outputs": [],
   "source": [
    "# Check the connection status\n",
    "api.isconnected()"
   ]
  },
  {
   "cell_type": "code",
   "execution_count": null,
   "id": "c1d7f30f",
   "metadata": {},
   "outputs": [],
   "source": [
    "api.client"
   ]
  },
  {
   "cell_type": "code",
   "execution_count": null,
   "id": "adfefedc",
   "metadata": {},
   "outputs": [],
   "source": [
    "api.fix"
   ]
  },
  {
   "cell_type": "code",
   "execution_count": null,
   "id": "fbdaaabb",
   "metadata": {},
   "outputs": [],
   "source": [
    "api.market_data_list"
   ]
  },
  {
   "cell_type": "code",
   "execution_count": null,
   "id": "3eedd62a",
   "metadata": {},
   "outputs": [],
   "source": [
    "# logout\n",
    "# api.logout()"
   ]
  },
  {
   "cell_type": "markdown",
   "id": "01c3017d",
   "metadata": {},
   "source": [
    "# Only market orders to buy and sell without TP nor SL, then close\n",
    "\n",
    "Also no subscription to prices for this."
   ]
  },
  {
   "cell_type": "code",
   "execution_count": null,
   "id": "00e18bd6",
   "metadata": {},
   "outputs": [],
   "source": [
    "api.buy(\"XAUUSD\", 0.02)"
   ]
  },
  {
   "cell_type": "code",
   "execution_count": null,
   "id": "43dfc947",
   "metadata": {},
   "outputs": [],
   "source": [
    "api.buy(\"EURUSD\", 0.01)"
   ]
  },
  {
   "cell_type": "code",
   "execution_count": null,
   "id": "19611f07",
   "metadata": {},
   "outputs": [],
   "source": [
    "api.buy(\"CADCHF\", 0.01)"
   ]
  },
  {
   "cell_type": "code",
   "execution_count": null,
   "id": "c15d2153",
   "metadata": {},
   "outputs": [],
   "source": [
    "api.sell(\"USDCHF\", 0.30)"
   ]
  },
  {
   "cell_type": "code",
   "execution_count": null,
   "id": "7578a7e6",
   "metadata": {},
   "outputs": [],
   "source": [
    "api.sell(\"XTIUSD\", 0.30)"
   ]
  },
  {
   "cell_type": "code",
   "execution_count": null,
   "id": "d8089c76",
   "metadata": {},
   "outputs": [],
   "source": [
    "api.sell(\"US30\", 1)"
   ]
  },
  {
   "cell_type": "code",
   "execution_count": null,
   "id": "091e0e30",
   "metadata": {},
   "outputs": [],
   "source": [
    "# looking directly at positions does not see the changes\n",
    "api.positions()"
   ]
  },
  {
   "cell_type": "code",
   "execution_count": null,
   "id": "3755d1d4",
   "metadata": {},
   "outputs": [],
   "source": [
    "# to see the changes we need to log out and log back in\n",
    "# logout\n",
    "api.logout()\n",
    "# time.sleep(1)\n",
    "# Check the connection status\n",
    "print(api.isconnected())\n",
    "# build trader object\n",
    "api = CTrader(\n",
    "    server=HOST,\n",
    "    account=SENDER_COMP_ID,\n",
    "    password=PASSWORD,\n",
    "    currency=CURRENCY,\n",
    "    client_id=CLIENT_ID,\n",
    "    debug=DEBUG,\n",
    ")\n",
    "time.sleep(1)\n",
    "#\n",
    "positions = api.positions()\n",
    "print(pformat(positions))"
   ]
  },
  {
   "cell_type": "code",
   "execution_count": null,
   "id": "88adb717",
   "metadata": {},
   "outputs": [],
   "source": [
    "# close all positions of a given symbol\n",
    "api.close(\"USDCHF\")"
   ]
  },
  {
   "cell_type": "code",
   "execution_count": null,
   "id": "8e9ca937",
   "metadata": {},
   "outputs": [],
   "source": [
    "api.close(\"CADCHF\")"
   ]
  },
  {
   "cell_type": "code",
   "execution_count": null,
   "id": "2a28d8de",
   "metadata": {},
   "outputs": [],
   "source": [
    "api.close(\"EURUSD\")"
   ]
  },
  {
   "cell_type": "code",
   "execution_count": null,
   "id": "f4d28133",
   "metadata": {},
   "outputs": [],
   "source": [
    "api.close_all()"
   ]
  },
  {
   "cell_type": "markdown",
   "id": "3836ecc6",
   "metadata": {},
   "source": [
    "# Real-time quote"
   ]
  },
  {
   "cell_type": "code",
   "execution_count": null,
   "id": "863037ea",
   "metadata": {},
   "outputs": [],
   "source": [
    "symbol = \"EURUSD\"\n",
    "symbol"
   ]
  },
  {
   "cell_type": "code",
   "execution_count": null,
   "id": "33ec9711",
   "metadata": {},
   "outputs": [],
   "source": [
    "# subscribe to symbols\n",
    "# api.subscribe([\"BTCUSD\", \"ETHUSD\", \"EURUSD\", \"GBPUSD\", \"EURUSD\", \"GBPUSD\", \"AUDUSD\", \"CADCHF\", \"XAUUSD\"])\n",
    "# api.subscribe([\"EURUSD\", \"GBPUSD\"])\n",
    "# api.subscribe([\"XAUUSD\", \"AUDUSD\"])\n",
    "api.subscribe([symbol])"
   ]
  },
  {
   "cell_type": "code",
   "execution_count": null,
   "id": "9edda7b1",
   "metadata": {},
   "outputs": [],
   "source": [
    "# wait one second for the quote to arrive\n",
    "time.sleep(1)\n",
    "# list of quotes for all symbols\n",
    "quote = api.quote(symbol)\n",
    "print(quote)"
   ]
  },
  {
   "cell_type": "code",
   "execution_count": null,
   "id": "b6659347",
   "metadata": {},
   "outputs": [],
   "source": [
    "type(quote[symbol])"
   ]
  },
  {
   "cell_type": "code",
   "execution_count": null,
   "id": "da6cb0d1",
   "metadata": {},
   "outputs": [],
   "source": [
    "api.fix.spot_market_request(\"XAUUSD\")"
   ]
  },
  {
   "cell_type": "code",
   "execution_count": null,
   "id": "d9635d39",
   "metadata": {},
   "outputs": [],
   "source": [
    "api.fix.spot_price_list"
   ]
  },
  {
   "cell_type": "code",
   "execution_count": null,
   "id": "b434b33c",
   "metadata": {},
   "outputs": [],
   "source": [
    "# Convert Unix timestamp to datetime object\n",
    "timestamp_ms = quote[symbol][\"time\"] # in ms, needs to be converted in seconds\n",
    "timestamp_s = timestamp_ms/1000.0\n",
    "dt = datetime.fromtimestamp(timestamp_s)\n",
    "dt"
   ]
  },
  {
   "cell_type": "code",
   "execution_count": null,
   "id": "03611520",
   "metadata": {},
   "outputs": [],
   "source": [
    "# quote for a single symbol\n",
    "# this does not work\n",
    "# quote = api.quote(symbol)\n",
    "# print(quote)"
   ]
  },
  {
   "cell_type": "code",
   "execution_count": null,
   "id": "7e94810a",
   "metadata": {},
   "outputs": [],
   "source": [
    "api.client"
   ]
  },
  {
   "cell_type": "markdown",
   "id": "f44ff5f0",
   "metadata": {},
   "source": [
    "# List positions"
   ]
  },
  {
   "cell_type": "code",
   "execution_count": null,
   "id": "9562d633",
   "metadata": {},
   "outputs": [],
   "source": [
    "api.positions()"
   ]
  },
  {
   "cell_type": "code",
   "execution_count": null,
   "id": "55b41620",
   "metadata": {},
   "outputs": [],
   "source": [
    "# logout\n",
    "api.logout()\n",
    "# build trader object\n",
    "api = CTrader(\n",
    "    server=HOST,\n",
    "    account=SENDER_COMP_ID,\n",
    "    password=PASSWORD,\n",
    "    currency=CURRENCY,\n",
    "    client_id=CLIENT_ID,\n",
    "    debug=DEBUG,\n",
    ")\n",
    "#\n",
    "positions = api.positions()\n",
    "print(pformat(positions))"
   ]
  },
  {
   "cell_type": "code",
   "execution_count": null,
   "id": "1fec9568",
   "metadata": {},
   "outputs": [],
   "source": [
    "for position in positions:\n",
    "    print()\n",
    "    print(\"New position:\")\n",
    "    print(pformat(position))"
   ]
  },
  {
   "cell_type": "markdown",
   "id": "72107e21",
   "metadata": {},
   "source": [
    "# List orders \n",
    "\n",
    "It is about limit and stop orders, ss market orders get executed right away anyway."
   ]
  },
  {
   "cell_type": "code",
   "execution_count": null,
   "id": "3bb1812f",
   "metadata": {},
   "outputs": [],
   "source": [
    "api.orders()"
   ]
  },
  {
   "cell_type": "code",
   "execution_count": null,
   "id": "ce546619",
   "metadata": {},
   "outputs": [],
   "source": [
    "orders = api.orders()\n",
    "print(pformat(orders))"
   ]
  },
  {
   "cell_type": "code",
   "execution_count": null,
   "id": "eaf47dc8",
   "metadata": {},
   "outputs": [],
   "source": [
    "for order in orders:\n",
    "    print()\n",
    "    print(\"New order:\")\n",
    "    print(pformat(order))"
   ]
  },
  {
   "cell_type": "markdown",
   "id": "237ff631",
   "metadata": {},
   "source": [
    "# Close positions"
   ]
  },
  {
   "cell_type": "code",
   "execution_count": null,
   "id": "db5239a3",
   "metadata": {},
   "outputs": [],
   "source": [
    "position"
   ]
  },
  {
   "cell_type": "code",
   "execution_count": null,
   "id": "ffc40299",
   "metadata": {},
   "outputs": [],
   "source": [
    "# Close position by id of all amount by giving it the entire amount the position\n",
    "api.positionCloseById(position['pos_id'], position['amount'])"
   ]
  },
  {
   "cell_type": "code",
   "execution_count": null,
   "id": "d7216486",
   "metadata": {},
   "outputs": [],
   "source": [
    "# Close position by id and and give the partial position to close in lots\n",
    "api.positionClosePartial(position['pos_id'], volume=0.01)"
   ]
  },
  {
   "cell_type": "code",
   "execution_count": null,
   "id": "8737c2fd",
   "metadata": {},
   "outputs": [],
   "source": [
    "# close all positions\n",
    "api.close_all()"
   ]
  },
  {
   "cell_type": "code",
   "execution_count": null,
   "id": "c82f0030",
   "metadata": {},
   "outputs": [],
   "source": [
    "api.close_all_positions_of_symbol(\"AUDUSD\")"
   ]
  },
  {
   "cell_type": "code",
   "execution_count": null,
   "id": "1a7d7629",
   "metadata": {},
   "outputs": [],
   "source": []
  },
  {
   "cell_type": "code",
   "execution_count": null,
   "id": "8ec7425d",
   "metadata": {},
   "outputs": [],
   "source": [
    "api.positions()"
   ]
  },
  {
   "cell_type": "code",
   "execution_count": null,
   "id": "53b96a16",
   "metadata": {},
   "outputs": [],
   "source": [
    "for position in api.positions():\n",
    "    if position[name] != symbol:\n",
    "        continue\n",
    "    # if here close the entire position\n",
    "    # Close position by id of all amount by giving it the entire amount the position\n",
    "    api.positionCloseById(position['pos_id'], position['amount'])"
   ]
  },
  {
   "cell_type": "code",
   "execution_count": null,
   "id": "2347ab3d",
   "metadata": {},
   "outputs": [],
   "source": []
  },
  {
   "cell_type": "code",
   "execution_count": null,
   "id": "1c43ea0b",
   "metadata": {},
   "outputs": [],
   "source": []
  },
  {
   "cell_type": "markdown",
   "id": "22f2a8c0",
   "metadata": {},
   "source": [
    "# Close Orders"
   ]
  },
  {
   "cell_type": "code",
   "execution_count": null,
   "id": "9cbfdf31",
   "metadata": {},
   "outputs": [],
   "source": [
    "order"
   ]
  },
  {
   "cell_type": "code",
   "execution_count": null,
   "id": "70eca33c",
   "metadata": {},
   "outputs": [],
   "source": [
    "api.orderCancelById(order[\"ord_id\"])"
   ]
  },
  {
   "cell_type": "code",
   "execution_count": null,
   "id": "45bdb030",
   "metadata": {},
   "outputs": [],
   "source": [
    "# close all orders\n",
    "api.cancel_all()"
   ]
  },
  {
   "cell_type": "code",
   "execution_count": null,
   "id": "6e5ee43f",
   "metadata": {},
   "outputs": [],
   "source": []
  },
  {
   "cell_type": "code",
   "execution_count": null,
   "id": "2d6dd04a",
   "metadata": {},
   "outputs": [],
   "source": []
  },
  {
   "cell_type": "markdown",
   "id": "201dc95e",
   "metadata": {},
   "source": [
    "# Place buy and sell orders: Market, Limit and Stop"
   ]
  },
  {
   "cell_type": "code",
   "execution_count": null,
   "id": "2d25bb0f",
   "metadata": {},
   "outputs": [],
   "source": [
    "if False:\n",
    "    # logout\n",
    "    api.logout()\n",
    "    # build trader object\n",
    "    api = CTrader(\n",
    "        server=HOST,\n",
    "        account=SENDER_COMP_ID,\n",
    "        password=PASSWORD,\n",
    "        currency=CURRENCY,\n",
    "        client_id=CLIENT_ID,\n",
    "        debug=DEBUG,\n",
    "    )\n",
    "#\n",
    "symbol = \"EURUSD\"\n",
    "volume = 0.15\n",
    "pips = 20\n",
    "# subscribe to get the current price (but you get only the latest)\n",
    "api.subscribe([symbol])\n",
    "# wait one second for the price to arrive\n",
    "time.sleep(1)\n",
    "# Current price\n",
    "quote = api.quote(symbol)\n",
    "print(quote)\n",
    "\n",
    "price_bid = quote['bid'] \n",
    "price_ask = quote['ask']\n",
    "spread = price_ask - price_bid\n",
    "# \n",
    "below = round(price_bid - pips/10_000, 6)\n",
    "above = round(price_ask + pips/10_000, 6)\n",
    "# limit buy: price must be below current price\n",
    "limit_price_buy = price_bid - pips/10_000\n",
    "# limit sell: price must be above current price\n",
    "limit_price_sell = price_ask + pips/10_000\n",
    "# stop buy: price must be above current price\n",
    "stop_price_buy = price_ask + pips/10_000\n",
    "# stop sell: price must be below current price\n",
    "stop_price_sell = price_bid - pips/10_000\n",
    "print(f\"price bid={price_bid}, ask={price_ask}, spread={spread}, limit_price buy={limit_price_buy}, sell={limit_price_sell}, stop_price buy={stop_price_buy}, sell={stop_price_sell}\")\n"
   ]
  },
  {
   "cell_type": "code",
   "execution_count": null,
   "id": "c59507f3",
   "metadata": {},
   "outputs": [],
   "source": [
    "quote = api.quote()\n",
    "quote"
   ]
  },
  {
   "cell_type": "code",
   "execution_count": null,
   "id": "8ddb75dc",
   "metadata": {},
   "outputs": [],
   "source": [
    "volume=0.06\n",
    "id = api.buyMarket(symbol, volume, stoploss=None, takeprofit=above, price=price_ask)\n",
    "print(f\"Position: {id}\")"
   ]
  },
  {
   "cell_type": "code",
   "execution_count": null,
   "id": "d410a388",
   "metadata": {},
   "outputs": [],
   "source": [
    "id = api.sellMarket(symbol, volume, stoploss=None, takeprofit=None, price=price_bid)\n",
    "print(f\"Position: {id}\")"
   ]
  },
  {
   "cell_type": "code",
   "execution_count": null,
   "id": "53e4d150",
   "metadata": {},
   "outputs": [],
   "source": []
  },
  {
   "cell_type": "code",
   "execution_count": null,
   "id": "c22f60ef",
   "metadata": {},
   "outputs": [],
   "source": []
  },
  {
   "cell_type": "code",
   "execution_count": null,
   "id": "0930afbc",
   "metadata": {},
   "outputs": [],
   "source": []
  },
  {
   "cell_type": "code",
   "execution_count": null,
   "id": "9a4cfe49",
   "metadata": {},
   "outputs": [],
   "source": [
    "# market orders without SL, TP or entry price\n",
    "volume=0.01\n",
    "id = api.buyMarket(symbol, volume, stoploss=None, takeprofit=None, price=None)\n",
    "print(f\"Position: {id}\")\n",
    "id = api.sellMarket(symbol, volume, stoploss=None, takeprofit=None, price=None)\n",
    "print(f\"Position: {id}\")\n",
    "\n",
    "# market orders with only entry price\n",
    "volume=0.02\n",
    "id = api.buyMarket(symbol, volume, stoploss=None, takeprofit=None, price=price_ask)\n",
    "print(f\"Position: {id}\")\n",
    "id = api.sellMarket(symbol, volume, stoploss=None, takeprofit=None, price=price_bid)\n",
    "print(f\"Position: {id}\")\n",
    "\n",
    "# market orders all\n",
    "volume=0.03\n",
    "id = api.buyMarket(symbol, volume, stoploss=below, takeprofit=above, price=price_ask)\n",
    "print(f\"Position: {id}\")\n",
    "id = api.sellMarket(symbol, volume, stoploss=above, takeprofit=below, price=price_bid)\n",
    "print(f\"Position: {id}\")\n",
    "\n",
    "# market orders with only SL\n",
    "volume=0.02\n",
    "id = api.buyMarket(symbol, volume, stoploss=below, takeprofit=None, price=None)\n",
    "print(f\"Position: {id}\")\n",
    "#id = api.sellMarket(symbol, volume, stoploss=above, takeprofit=None, price=None)\n",
    "#print(f\"Position: {id}\")\n",
    "\n",
    "# market orders with only TP\n",
    "volume=0.03\n",
    "id = api.buyMarket(symbol, volume, stoploss=None, takeprofit=above, price=None)\n",
    "print(f\"Position: {id}\")\n",
    "id = api.sellMarket(symbol, volume, stoploss=None, takeprofit=below, price=None)\n",
    "print(f\"Position: {id}\")\n",
    "\n",
    "\n",
    "\n",
    "# market orders with both SL and TP, but without entry price\n",
    "volume=0.05\n",
    "id = api.buyMarket(symbol, volume, stoploss=below, takeprofit=above, price=None)\n",
    "print(f\"Position: {id}\")\n",
    "id = api.sellMarket(symbol, volume, stoploss=above, takeprofit=below, price=None)\n",
    "print(f\"Position: {id}\")\n",
    "\n",
    "# market orders all\n",
    "volume=0.06\n",
    "id = api.buyMarket(symbol, volume, stoploss=below, takeprofit=above, price=price_ask)\n",
    "print(f\"Position: {id}\")\n",
    "id = api.sellMarket(symbol, volume, stoploss=above, takeprofit=below, price=price_bid)\n",
    "print(f\"Position: {id}\")\n",
    "\n",
    "\n",
    "\n"
   ]
  },
  {
   "cell_type": "code",
   "execution_count": null,
   "id": "19c381ce",
   "metadata": {},
   "outputs": [],
   "source": [
    "assert False\n",
    "\n",
    "\n",
    "# market orders without price and without SL and TP\n",
    "# market buy\n",
    "volume=0.01\n",
    "id = api.buy(symbol, volume, stoploss=None, takeprofit=None, price=None)\n",
    "print(f\"Position: {id}\")\n",
    "# market sell\n",
    "# id = api.buy(symbol, volume, stoploss=above, takeprofit=below, price=None)\n",
    "assert False\n",
    "\n",
    "# market buy\n",
    "id = api.buy(symbol, volume, stoploss=below, takeprofit=above, price=None)\n",
    "print(f\"Position: {id}\")\n",
    "# market sell\n",
    "id = api.buy(symbol, volume, stoploss=above, takeprofit=below, price=None)\n",
    "assert False\n",
    "# market buy\n",
    "id = api.buy(symbol, volume, stoploss=below, takeprofit=above, price=price_ask)\n",
    "print(f\"Position: {id}\")\n",
    "# market sell\n",
    "id = api.buy(symbol, volume, stoploss=above, takeprofit=below, price=price_bid)\n",
    "dfdfdfd\n",
    "print(f\"Position: {id}\")\n",
    "# limit order to buy\n",
    "id = api.buyLimit(symbol, volume, price=limit_price_buy)\n",
    "print(f\"Order: {id}\")\n",
    "# limit order to sell\n",
    "id = api.sellLimit(symbol, volume, price=limit_price_sell)\n",
    "print(f\"Order: {id}\")\n",
    "# stop order to buy\n",
    "id = api.buyStop(symbol, volume, price=stop_price_buy)\n",
    "print(f\"Order: {id}\")\n",
    "# limit order to sell\n",
    "id = api.sellStop(symbol, volume, price=stop_price_sell)\n",
    "print(f\"Order: {id}\")"
   ]
  },
  {
   "cell_type": "markdown",
   "id": "3dd372b3",
   "metadata": {},
   "source": [
    "# Close all positions for one symbol"
   ]
  },
  {
   "cell_type": "code",
   "execution_count": null,
   "id": "eef91a5d",
   "metadata": {},
   "outputs": [],
   "source": [
    "api.positions()"
   ]
  },
  {
   "cell_type": "code",
   "execution_count": null,
   "id": "b67fdd96",
   "metadata": {},
   "outputs": [],
   "source": []
  },
  {
   "cell_type": "code",
   "execution_count": null,
   "id": "4a18d9c7",
   "metadata": {},
   "outputs": [],
   "source": [
    "api.fix"
   ]
  },
  {
   "cell_type": "code",
   "execution_count": null,
   "id": "e19990d8",
   "metadata": {},
   "outputs": [],
   "source": [
    "api.fix.spot_price_list"
   ]
  },
  {
   "cell_type": "code",
   "execution_count": null,
   "id": "4a0b86db",
   "metadata": {},
   "outputs": [],
   "source": [
    "api.fix.position_list_callback(api.fix.position_list, api.fix.spot_price_list, api.fix.client_id)"
   ]
  },
  {
   "cell_type": "code",
   "execution_count": null,
   "id": "6c38d755",
   "metadata": {},
   "outputs": [],
   "source": [
    "api.fix.position_list"
   ]
  },
  {
   "cell_type": "code",
   "execution_count": null,
   "id": "6279cf9f",
   "metadata": {},
   "outputs": [],
   "source": [
    "api.fix.spot_price_list"
   ]
  },
  {
   "cell_type": "code",
   "execution_count": null,
   "id": "7229d7f8",
   "metadata": {},
   "outputs": [],
   "source": [
    "api.fix.client_id"
   ]
  },
  {
   "cell_type": "code",
   "execution_count": null,
   "id": "02ca2da0",
   "metadata": {},
   "outputs": [],
   "source": []
  }
 ],
 "metadata": {
  "kernelspec": {
   "display_name": "Python 3 (ipykernel)",
   "language": "python",
   "name": "python3"
  },
  "language_info": {
   "codemirror_mode": {
    "name": "ipython",
    "version": 3
   },
   "file_extension": ".py",
   "mimetype": "text/x-python",
   "name": "python",
   "nbconvert_exporter": "python",
   "pygments_lexer": "ipython3",
   "version": "3.11.2"
  }
 },
 "nbformat": 4,
 "nbformat_minor": 5
}
