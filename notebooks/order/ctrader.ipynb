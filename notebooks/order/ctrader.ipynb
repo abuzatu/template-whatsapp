{
 "cells": [
  {
   "cell_type": "markdown",
   "id": "5951a9d3",
   "metadata": {},
   "source": [
    "# Notebook to test quotes and trades in CTrader"
   ]
  },
  {
   "cell_type": "code",
   "execution_count": null,
   "id": "48ae0330",
   "metadata": {},
   "outputs": [],
   "source": [
    "# python\n",
    "from datetime import datetime\n",
    "import json\n",
    "import numpy as np\n",
    "from pprint import pformat\n",
    "import time\n",
    "\n",
    "# our modules\n",
    "from ctrader.ctrader import CTrader\n",
    "from configs.ctrader import (HOST, SENDER_COMP_ID, PASSWORD, CURRENCY, CLIENT_ID, DEBUG)\n",
    "\n",
    "# allow to use an updated module and use the change directly by refreshing the cell\n",
    "# without having to restart the entire notebook\n",
    "%load_ext autoreload\n",
    "%autoreload 2"
   ]
  },
  {
   "cell_type": "code",
   "execution_count": null,
   "id": "62bc387b",
   "metadata": {},
   "outputs": [],
   "source": [
    "# check\n",
    "# HOST, SENDER_COMP_ID, PASSWORD, CURRENCY, CLIENT_ID, DEBUG"
   ]
  },
  {
   "cell_type": "code",
   "execution_count": null,
   "id": "5a53034f",
   "metadata": {},
   "outputs": [],
   "source": [
    "# build trader object\n",
    "api = CTrader(\n",
    "    server=HOST,\n",
    "    account=SENDER_COMP_ID,\n",
    "    password=PASSWORD,\n",
    "    currency=CURRENCY,\n",
    "    client_id=CLIENT_ID,\n",
    "    debug=DEBUG,\n",
    ")\n",
    "api"
   ]
  },
  {
   "cell_type": "code",
   "execution_count": null,
   "id": "cf174ca1",
   "metadata": {},
   "outputs": [],
   "source": [
    "# Check the connection status\n",
    "api.isconnected()"
   ]
  },
  {
   "cell_type": "code",
   "execution_count": null,
   "id": "9c336572",
   "metadata": {},
   "outputs": [],
   "source": [
    "api.client"
   ]
  },
  {
   "cell_type": "code",
   "execution_count": null,
   "id": "3087901d",
   "metadata": {},
   "outputs": [],
   "source": [
    "api.fix"
   ]
  },
  {
   "cell_type": "code",
   "execution_count": null,
   "id": "42661311",
   "metadata": {},
   "outputs": [],
   "source": [
    "api.market_data_list"
   ]
  },
  {
   "cell_type": "code",
   "execution_count": null,
   "id": "b7ad848d",
   "metadata": {},
   "outputs": [],
   "source": [
    "# logout\n",
    "api.logout()"
   ]
  },
  {
   "cell_type": "markdown",
   "id": "bcfbdd61",
   "metadata": {},
   "source": [
    "# Only market orders to buy and sell without TP nor SL, then close\n",
    "\n",
    "Also no subscription to prices for this."
   ]
  },
  {
   "cell_type": "code",
   "execution_count": null,
   "id": "2be9cbc7",
   "metadata": {},
   "outputs": [],
   "source": [
    "api.buy(\"XAUUSD\", 0.02)"
   ]
  },
  {
   "cell_type": "code",
   "execution_count": null,
   "id": "e3c39222",
   "metadata": {},
   "outputs": [],
   "source": [
    "api.buy(\"EURUSD\", 0.01)"
   ]
  },
  {
   "cell_type": "code",
   "execution_count": null,
   "id": "1293a334",
   "metadata": {},
   "outputs": [],
   "source": [
    "api.buy(\"CADCHF\", 0.01)"
   ]
  },
  {
   "cell_type": "code",
   "execution_count": null,
   "id": "3e8c3876",
   "metadata": {},
   "outputs": [],
   "source": [
    "api.sell(\"USDCHF\", 0.30)"
   ]
  },
  {
   "cell_type": "code",
   "execution_count": null,
   "id": "181772fe",
   "metadata": {},
   "outputs": [],
   "source": [
    "api.sell(\"US30\", 0.01)"
   ]
  },
  {
   "cell_type": "code",
   "execution_count": null,
   "id": "46aa24e5",
   "metadata": {},
   "outputs": [],
   "source": [
    "# looking directly at positions does not see the changes\n",
    "api.positions()"
   ]
  },
  {
   "cell_type": "code",
   "execution_count": null,
   "id": "67661f6f",
   "metadata": {},
   "outputs": [],
   "source": [
    "# to see the changes we need to log out and log back in\n",
    "# logout\n",
    "api.logout()\n",
    "# time.sleep(1)\n",
    "# Check the connection status\n",
    "print(api.isconnected())\n",
    "# build trader object\n",
    "api = CTrader(\n",
    "    server=HOST,\n",
    "    account=SENDER_COMP_ID,\n",
    "    password=PASSWORD,\n",
    "    currency=CURRENCY,\n",
    "    client_id=CLIENT_ID,\n",
    "    debug=DEBUG,\n",
    ")\n",
    "time.sleep(1)\n",
    "#\n",
    "positions = api.positions()\n",
    "print(pformat(positions))"
   ]
  },
  {
   "cell_type": "code",
   "execution_count": null,
   "id": "5730df9c",
   "metadata": {},
   "outputs": [],
   "source": [
    "# close all positions of a given symbol\n",
    "api.close(\"USDCHF\")"
   ]
  },
  {
   "cell_type": "code",
   "execution_count": null,
   "id": "4b9917f9",
   "metadata": {},
   "outputs": [],
   "source": [
    "api.close(\"CADCHF\")"
   ]
  },
  {
   "cell_type": "code",
   "execution_count": null,
   "id": "3370a24d",
   "metadata": {},
   "outputs": [],
   "source": [
    "api.close(\"EURUSD\")"
   ]
  },
  {
   "cell_type": "markdown",
   "id": "d393132c",
   "metadata": {},
   "source": [
    "# Real-time quote"
   ]
  },
  {
   "cell_type": "code",
   "execution_count": null,
   "id": "72706ac1",
   "metadata": {},
   "outputs": [],
   "source": [
    "symbol = \"EURUSD\"\n",
    "symbol"
   ]
  },
  {
   "cell_type": "code",
   "execution_count": null,
   "id": "07ea6f53",
   "metadata": {},
   "outputs": [],
   "source": [
    "# subscribe to symbols\n",
    "# api.subscribe([\"BTCUSD\", \"ETHUSD\", \"EURUSD\", \"GBPUSD\", \"EURUSD\", \"GBPUSD\", \"AUDUSD\", \"CADCHF\", \"XAUUSD\"])\n",
    "# api.subscribe([\"EURUSD\", \"GBPUSD\"])\n",
    "# api.subscribe([\"XAUUSD\", \"AUDUSD\"])\n",
    "api.subscribe([symbol])"
   ]
  },
  {
   "cell_type": "code",
   "execution_count": null,
   "id": "e012001b",
   "metadata": {},
   "outputs": [],
   "source": [
    "# wait one second for the quote to arrive\n",
    "time.sleep(1)\n",
    "# list of quotes for all symbols\n",
    "quote = api.quote(symbol)\n",
    "print(quote)"
   ]
  },
  {
   "cell_type": "code",
   "execution_count": null,
   "id": "dd1b4b6b",
   "metadata": {},
   "outputs": [],
   "source": [
    "type(quote[symbol])"
   ]
  },
  {
   "cell_type": "code",
   "execution_count": null,
   "id": "2415b7b8",
   "metadata": {},
   "outputs": [],
   "source": [
    "api.fix.spot_market_request(\"XAUUSD\")"
   ]
  },
  {
   "cell_type": "code",
   "execution_count": null,
   "id": "66d60d51",
   "metadata": {},
   "outputs": [],
   "source": [
    "api.fix.spot_price_list"
   ]
  },
  {
   "cell_type": "code",
   "execution_count": null,
   "id": "36553bf9",
   "metadata": {},
   "outputs": [],
   "source": [
    "# Convert Unix timestamp to datetime object\n",
    "timestamp_ms = quote[symbol][\"time\"] # in ms, needs to be converted in seconds\n",
    "timestamp_s = timestamp_ms/1000.0\n",
    "dt = datetime.fromtimestamp(timestamp_s)\n",
    "dt"
   ]
  },
  {
   "cell_type": "code",
   "execution_count": null,
   "id": "f88efa18",
   "metadata": {},
   "outputs": [],
   "source": [
    "# quote for a single symbol\n",
    "# this does not work\n",
    "# quote = api.quote(symbol)\n",
    "# print(quote)"
   ]
  },
  {
   "cell_type": "code",
   "execution_count": null,
   "id": "5f42028c",
   "metadata": {},
   "outputs": [],
   "source": [
    "api.client"
   ]
  },
  {
   "cell_type": "markdown",
   "id": "85f6a0f2",
   "metadata": {},
   "source": [
    "# List positions"
   ]
  },
  {
   "cell_type": "code",
   "execution_count": null,
   "id": "93bb13b9",
   "metadata": {},
   "outputs": [],
   "source": [
    "api.positions()"
   ]
  },
  {
   "cell_type": "code",
   "execution_count": null,
   "id": "c8426780",
   "metadata": {},
   "outputs": [],
   "source": [
    "# logout\n",
    "api.logout()\n",
    "# build trader object\n",
    "api = CTrader(\n",
    "    server=HOST,\n",
    "    account=SENDER_COMP_ID,\n",
    "    password=PASSWORD,\n",
    "    currency=CURRENCY,\n",
    "    client_id=CLIENT_ID,\n",
    "    debug=DEBUG,\n",
    ")\n",
    "#\n",
    "positions = api.positions()\n",
    "print(pformat(positions))"
   ]
  },
  {
   "cell_type": "code",
   "execution_count": null,
   "id": "3cca4db8",
   "metadata": {},
   "outputs": [],
   "source": [
    "for position in positions:\n",
    "    print()\n",
    "    print(\"New position:\")\n",
    "    print(pformat(position))"
   ]
  },
  {
   "cell_type": "markdown",
   "id": "3415b186",
   "metadata": {},
   "source": [
    "# List orders \n",
    "\n",
    "It is about limit and stop orders, ss market orders get executed right away anyway."
   ]
  },
  {
   "cell_type": "code",
   "execution_count": null,
   "id": "2ee59ecf",
   "metadata": {},
   "outputs": [],
   "source": [
    "api.orders()"
   ]
  },
  {
   "cell_type": "code",
   "execution_count": null,
   "id": "f0bdb446",
   "metadata": {},
   "outputs": [],
   "source": [
    "orders = api.orders()\n",
    "print(pformat(orders))"
   ]
  },
  {
   "cell_type": "code",
   "execution_count": null,
   "id": "0c4e2068",
   "metadata": {},
   "outputs": [],
   "source": [
    "for order in orders:\n",
    "    print()\n",
    "    print(\"New order:\")\n",
    "    print(pformat(order))"
   ]
  },
  {
   "cell_type": "markdown",
   "id": "f030183f",
   "metadata": {},
   "source": [
    "# Close positions"
   ]
  },
  {
   "cell_type": "code",
   "execution_count": null,
   "id": "0589ad02",
   "metadata": {},
   "outputs": [],
   "source": [
    "position"
   ]
  },
  {
   "cell_type": "code",
   "execution_count": null,
   "id": "a3e69f6a",
   "metadata": {},
   "outputs": [],
   "source": [
    "# Close position by id of all amount by giving it the entire amount the position\n",
    "api.positionCloseById(position['pos_id'], position['amount'])"
   ]
  },
  {
   "cell_type": "code",
   "execution_count": null,
   "id": "fc67a743",
   "metadata": {},
   "outputs": [],
   "source": [
    "# Close position by id and and give the partial position to close in lots\n",
    "api.positionClosePartial(position['pos_id'], volume=0.01)"
   ]
  },
  {
   "cell_type": "code",
   "execution_count": null,
   "id": "6a2336c2",
   "metadata": {},
   "outputs": [],
   "source": [
    "# close all positions\n",
    "api.close_all()"
   ]
  },
  {
   "cell_type": "code",
   "execution_count": null,
   "id": "1c1d4fdc",
   "metadata": {},
   "outputs": [],
   "source": [
    "api.close_all_positions_of_symbol(\"AUDUSD\")"
   ]
  },
  {
   "cell_type": "code",
   "execution_count": null,
   "id": "4e04f54d",
   "metadata": {},
   "outputs": [],
   "source": []
  },
  {
   "cell_type": "code",
   "execution_count": null,
   "id": "8087e822",
   "metadata": {},
   "outputs": [],
   "source": [
    "api.positions()"
   ]
  },
  {
   "cell_type": "code",
   "execution_count": null,
   "id": "32ff951e",
   "metadata": {},
   "outputs": [],
   "source": [
    "for position in api.positions():\n",
    "    if position[name] != symbol:\n",
    "        continue\n",
    "    # if here close the entire position\n",
    "    # Close position by id of all amount by giving it the entire amount the position\n",
    "    api.positionCloseById(position['pos_id'], position['amount'])"
   ]
  },
  {
   "cell_type": "code",
   "execution_count": null,
   "id": "5701681d",
   "metadata": {},
   "outputs": [],
   "source": []
  },
  {
   "cell_type": "code",
   "execution_count": null,
   "id": "c8a6cf5a",
   "metadata": {},
   "outputs": [],
   "source": []
  },
  {
   "cell_type": "markdown",
   "id": "19cccfd2",
   "metadata": {},
   "source": [
    "# Close Orders"
   ]
  },
  {
   "cell_type": "code",
   "execution_count": null,
   "id": "224b59f5",
   "metadata": {},
   "outputs": [],
   "source": [
    "order"
   ]
  },
  {
   "cell_type": "code",
   "execution_count": null,
   "id": "0134fa0d",
   "metadata": {},
   "outputs": [],
   "source": [
    "api.orderCancelById(order[\"ord_id\"])"
   ]
  },
  {
   "cell_type": "code",
   "execution_count": null,
   "id": "68c85046",
   "metadata": {},
   "outputs": [],
   "source": [
    "# close all orders\n",
    "api.cancel_all()"
   ]
  },
  {
   "cell_type": "code",
   "execution_count": null,
   "id": "f371c050",
   "metadata": {},
   "outputs": [],
   "source": []
  },
  {
   "cell_type": "code",
   "execution_count": null,
   "id": "3c7f27a3",
   "metadata": {},
   "outputs": [],
   "source": []
  },
  {
   "cell_type": "markdown",
   "id": "c9d23c14",
   "metadata": {},
   "source": [
    "# Place buy and sell orders: Market, Limit and Stop"
   ]
  },
  {
   "cell_type": "code",
   "execution_count": null,
   "id": "3d1694e7",
   "metadata": {},
   "outputs": [],
   "source": [
    "if False:\n",
    "    # logout\n",
    "    api.logout()\n",
    "    # build trader object\n",
    "    api = CTrader(\n",
    "        server=HOST,\n",
    "        account=SENDER_COMP_ID,\n",
    "        password=PASSWORD,\n",
    "        currency=CURRENCY,\n",
    "        client_id=CLIENT_ID,\n",
    "        debug=DEBUG,\n",
    "    )\n",
    "#\n",
    "symbol = \"EURUSD\"\n",
    "volume = 0.15\n",
    "pips = 20\n",
    "# subscribe to get the current price (but you get only the latest)\n",
    "api.subscribe([symbol])\n",
    "# wait one second for the price to arrive\n",
    "time.sleep(1)\n",
    "# Current price\n",
    "quote = api.quote(symbol)\n",
    "print(quote)\n",
    "\n",
    "price_bid = quote['bid'] \n",
    "price_ask = quote['ask']\n",
    "spread = price_ask - price_bid\n",
    "# \n",
    "below = round(price_bid - pips/10_000, 6)\n",
    "above = round(price_ask + pips/10_000, 6)\n",
    "# limit buy: price must be below current price\n",
    "limit_price_buy = price_bid - pips/10_000\n",
    "# limit sell: price must be above current price\n",
    "limit_price_sell = price_ask + pips/10_000\n",
    "# stop buy: price must be above current price\n",
    "stop_price_buy = price_ask + pips/10_000\n",
    "# stop sell: price must be below current price\n",
    "stop_price_sell = price_bid - pips/10_000\n",
    "print(f\"price bid={price_bid}, ask={price_ask}, spread={spread}, limit_price buy={limit_price_buy}, sell={limit_price_sell}, stop_price buy={stop_price_buy}, sell={stop_price_sell}\")\n"
   ]
  },
  {
   "cell_type": "code",
   "execution_count": null,
   "id": "92708664",
   "metadata": {},
   "outputs": [],
   "source": [
    "quote = api.quote()\n",
    "quote"
   ]
  },
  {
   "cell_type": "code",
   "execution_count": null,
   "id": "ded8ebcd",
   "metadata": {},
   "outputs": [],
   "source": [
    "volume=0.06\n",
    "id = api.buyMarket(symbol, volume, stoploss=None, takeprofit=above, price=price_ask)\n",
    "print(f\"Position: {id}\")"
   ]
  },
  {
   "cell_type": "code",
   "execution_count": null,
   "id": "19998dc5",
   "metadata": {},
   "outputs": [],
   "source": [
    "id = api.sellMarket(symbol, volume, stoploss=None, takeprofit=None, price=price_bid)\n",
    "print(f\"Position: {id}\")"
   ]
  },
  {
   "cell_type": "code",
   "execution_count": null,
   "id": "20f73684",
   "metadata": {},
   "outputs": [],
   "source": []
  },
  {
   "cell_type": "code",
   "execution_count": null,
   "id": "a88820b4",
   "metadata": {},
   "outputs": [],
   "source": []
  },
  {
   "cell_type": "code",
   "execution_count": null,
   "id": "179493cb",
   "metadata": {},
   "outputs": [],
   "source": []
  },
  {
   "cell_type": "code",
   "execution_count": null,
   "id": "cc2a26dc",
   "metadata": {},
   "outputs": [],
   "source": [
    "# market orders without SL, TP or entry price\n",
    "volume=0.01\n",
    "id = api.buyMarket(symbol, volume, stoploss=None, takeprofit=None, price=None)\n",
    "print(f\"Position: {id}\")\n",
    "id = api.sellMarket(symbol, volume, stoploss=None, takeprofit=None, price=None)\n",
    "print(f\"Position: {id}\")\n",
    "\n",
    "# market orders with only entry price\n",
    "volume=0.02\n",
    "id = api.buyMarket(symbol, volume, stoploss=None, takeprofit=None, price=price_ask)\n",
    "print(f\"Position: {id}\")\n",
    "id = api.sellMarket(symbol, volume, stoploss=None, takeprofit=None, price=price_bid)\n",
    "print(f\"Position: {id}\")\n",
    "\n",
    "# market orders all\n",
    "volume=0.03\n",
    "id = api.buyMarket(symbol, volume, stoploss=below, takeprofit=above, price=price_ask)\n",
    "print(f\"Position: {id}\")\n",
    "id = api.sellMarket(symbol, volume, stoploss=above, takeprofit=below, price=price_bid)\n",
    "print(f\"Position: {id}\")\n",
    "\n",
    "# market orders with only SL\n",
    "volume=0.02\n",
    "id = api.buyMarket(symbol, volume, stoploss=below, takeprofit=None, price=None)\n",
    "print(f\"Position: {id}\")\n",
    "#id = api.sellMarket(symbol, volume, stoploss=above, takeprofit=None, price=None)\n",
    "#print(f\"Position: {id}\")\n",
    "\n",
    "# market orders with only TP\n",
    "volume=0.03\n",
    "id = api.buyMarket(symbol, volume, stoploss=None, takeprofit=above, price=None)\n",
    "print(f\"Position: {id}\")\n",
    "id = api.sellMarket(symbol, volume, stoploss=None, takeprofit=below, price=None)\n",
    "print(f\"Position: {id}\")\n",
    "\n",
    "\n",
    "\n",
    "# market orders with both SL and TP, but without entry price\n",
    "volume=0.05\n",
    "id = api.buyMarket(symbol, volume, stoploss=below, takeprofit=above, price=None)\n",
    "print(f\"Position: {id}\")\n",
    "id = api.sellMarket(symbol, volume, stoploss=above, takeprofit=below, price=None)\n",
    "print(f\"Position: {id}\")\n",
    "\n",
    "# market orders all\n",
    "volume=0.06\n",
    "id = api.buyMarket(symbol, volume, stoploss=below, takeprofit=above, price=price_ask)\n",
    "print(f\"Position: {id}\")\n",
    "id = api.sellMarket(symbol, volume, stoploss=above, takeprofit=below, price=price_bid)\n",
    "print(f\"Position: {id}\")\n",
    "\n",
    "\n",
    "\n"
   ]
  },
  {
   "cell_type": "code",
   "execution_count": null,
   "id": "1f523a39",
   "metadata": {},
   "outputs": [],
   "source": [
    "assert False\n",
    "\n",
    "\n",
    "# market orders without price and without SL and TP\n",
    "# market buy\n",
    "volume=0.01\n",
    "id = api.buy(symbol, volume, stoploss=None, takeprofit=None, price=None)\n",
    "print(f\"Position: {id}\")\n",
    "# market sell\n",
    "# id = api.buy(symbol, volume, stoploss=above, takeprofit=below, price=None)\n",
    "assert False\n",
    "\n",
    "# market buy\n",
    "id = api.buy(symbol, volume, stoploss=below, takeprofit=above, price=None)\n",
    "print(f\"Position: {id}\")\n",
    "# market sell\n",
    "id = api.buy(symbol, volume, stoploss=above, takeprofit=below, price=None)\n",
    "assert False\n",
    "# market buy\n",
    "id = api.buy(symbol, volume, stoploss=below, takeprofit=above, price=price_ask)\n",
    "print(f\"Position: {id}\")\n",
    "# market sell\n",
    "id = api.buy(symbol, volume, stoploss=above, takeprofit=below, price=price_bid)\n",
    "dfdfdfd\n",
    "print(f\"Position: {id}\")\n",
    "# limit order to buy\n",
    "id = api.buyLimit(symbol, volume, price=limit_price_buy)\n",
    "print(f\"Order: {id}\")\n",
    "# limit order to sell\n",
    "id = api.sellLimit(symbol, volume, price=limit_price_sell)\n",
    "print(f\"Order: {id}\")\n",
    "# stop order to buy\n",
    "id = api.buyStop(symbol, volume, price=stop_price_buy)\n",
    "print(f\"Order: {id}\")\n",
    "# limit order to sell\n",
    "id = api.sellStop(symbol, volume, price=stop_price_sell)\n",
    "print(f\"Order: {id}\")"
   ]
  },
  {
   "cell_type": "markdown",
   "id": "c3e0d019",
   "metadata": {},
   "source": [
    "# Close all positions for one symbol"
   ]
  },
  {
   "cell_type": "code",
   "execution_count": null,
   "id": "4361f7a7",
   "metadata": {},
   "outputs": [],
   "source": [
    "api.positions()"
   ]
  },
  {
   "cell_type": "code",
   "execution_count": null,
   "id": "bf471fb1",
   "metadata": {},
   "outputs": [],
   "source": []
  },
  {
   "cell_type": "code",
   "execution_count": null,
   "id": "17034434",
   "metadata": {},
   "outputs": [],
   "source": [
    "api.fix"
   ]
  },
  {
   "cell_type": "code",
   "execution_count": null,
   "id": "c836be3e",
   "metadata": {},
   "outputs": [],
   "source": [
    "api.fix.spot_price_list"
   ]
  },
  {
   "cell_type": "code",
   "execution_count": null,
   "id": "219d49a8",
   "metadata": {},
   "outputs": [],
   "source": [
    "api.fix.position_list_callback(api.fix.position_list, api.fix.spot_price_list, api.fix.client_id)"
   ]
  },
  {
   "cell_type": "code",
   "execution_count": null,
   "id": "75c4e1ff",
   "metadata": {},
   "outputs": [],
   "source": [
    "api.fix.position_list"
   ]
  },
  {
   "cell_type": "code",
   "execution_count": null,
   "id": "7e8cac99",
   "metadata": {},
   "outputs": [],
   "source": [
    "api.fix.spot_price_list"
   ]
  },
  {
   "cell_type": "code",
   "execution_count": null,
   "id": "93cce411",
   "metadata": {},
   "outputs": [],
   "source": [
    "api.fix.client_id"
   ]
  },
  {
   "cell_type": "code",
   "execution_count": null,
   "id": "e11e13d2",
   "metadata": {},
   "outputs": [],
   "source": []
  }
 ],
 "metadata": {
  "kernelspec": {
   "display_name": "Python 3 (ipykernel)",
   "language": "python",
   "name": "python3"
  },
  "language_info": {
   "codemirror_mode": {
    "name": "ipython",
    "version": 3
   },
   "file_extension": ".py",
   "mimetype": "text/x-python",
   "name": "python",
   "nbconvert_exporter": "python",
   "pygments_lexer": "ipython3",
   "version": "3.11.2"
  }
 },
 "nbformat": 4,
 "nbformat_minor": 5
}
