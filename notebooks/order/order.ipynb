{
 "cells": [
  {
   "cell_type": "markdown",
   "id": "6c80aa3a",
   "metadata": {},
   "source": [
    "# Check parsing of messages for different signal providers"
   ]
  },
  {
   "cell_type": "code",
   "execution_count": 1,
   "id": "398859cc",
   "metadata": {},
   "outputs": [],
   "source": [
    "# python\n",
    "import numpy as np\n",
    "\n",
    "# our modules\n",
    "from trading.parse_InvestorsWizard import Parse_InvestorsWizard\n",
    "from trading.parse_PipsGainer_v1 import Parse_PipsGainer_v1\n",
    "from trading.parse_PipsGainer_v2 import Parse_PipsGainer_v2 as Parse_PipsGainer\n",
    "from trading.parse_PipsGainer_v3 import Parse_PipsGainer_v3 as Parse_PipsGainer_Vinay\n",
    "from trading.parse_ParamountInfoTech import Parse_ParamountInfoTech\n",
    "\n",
    "# allow to use an updated module and use the change directly by refreshing the cell\n",
    "# without having to restart the entire notebook\n",
    "%load_ext autoreload\n",
    "%autoreload 2"
   ]
  },
  {
   "cell_type": "markdown",
   "id": "0efdf541",
   "metadata": {},
   "source": [
    "# Investors Wizard"
   ]
  },
  {
   "cell_type": "code",
   "execution_count": null,
   "id": "ebe3ba0a",
   "metadata": {},
   "outputs": [],
   "source": [
    "p = Parse_InvestorsWizard()\n",
    "p"
   ]
  },
  {
   "cell_type": "code",
   "execution_count": null,
   "id": "3ac45427",
   "metadata": {},
   "outputs": [],
   "source": [
    "p.examples"
   ]
  },
  {
   "cell_type": "code",
   "execution_count": null,
   "id": "d5dce385",
   "metadata": {},
   "outputs": [],
   "source": [
    "p.fit_examples()"
   ]
  },
  {
   "cell_type": "markdown",
   "id": "37c93503",
   "metadata": {},
   "source": [
    "# Pips Gainer"
   ]
  },
  {
   "cell_type": "code",
   "execution_count": null,
   "id": "360f4852",
   "metadata": {},
   "outputs": [],
   "source": [
    "p = Parse_PipsGainer()\n",
    "p"
   ]
  },
  {
   "cell_type": "code",
   "execution_count": null,
   "id": "0036a418",
   "metadata": {},
   "outputs": [],
   "source": [
    "p.examples"
   ]
  },
  {
   "cell_type": "code",
   "execution_count": null,
   "id": "2e384954",
   "metadata": {},
   "outputs": [],
   "source": [
    "p.fit_examples()"
   ]
  },
  {
   "cell_type": "markdown",
   "id": "5db45fe8",
   "metadata": {},
   "source": [
    "# Pips Gainer Vinay"
   ]
  },
  {
   "cell_type": "code",
   "execution_count": 9,
   "id": "8cda0caa",
   "metadata": {},
   "outputs": [
    {
     "data": {
      "text/plain": [
       "<trading.parse_PipsGainer_v3.Parse_PipsGainer_v3 at 0xffff7bd36210>"
      ]
     },
     "execution_count": 9,
     "metadata": {},
     "output_type": "execute_result"
    }
   ],
   "source": [
    "p = Parse_PipsGainer_Vinay()\n",
    "p"
   ]
  },
  {
   "cell_type": "code",
   "execution_count": 10,
   "id": "ffea1e5c",
   "metadata": {},
   "outputs": [
    {
     "data": {
      "text/plain": [
       "['\\n            Gold sell 1955 1956\\n\\n            TP  1950\\n            TP  1945\\n\\n            SL 1962\\n            ',\n",
       " '\\n            Gold sell 1946\\n\\n            TP  1940\\n            SL   1953\\n            ',\n",
       " '\\n            Gold sell 1951 1952\\n\\n            TP  1948\\n            TP  1945\\n            TP  1943\\n            TP  1940\\n\\n            SL 1960\\n            ',\n",
       " '\\n            GOLD BUY  1955\\n\\n            TP  1962 \\n            TP  1969 \\n\\n            Sl 1941\\n            ',\n",
       " 'GOLD BUY',\n",
       " 'GOLD SELL',\n",
       " 'GOLD CLOSE',\n",
       " 'BUY GOLD',\n",
       " 'SELL GOLD',\n",
       " 'CLOSE GOLD',\n",
       " '\\n            BUY STOP XAUUSD @ 1977\\n            TARGET 1  1984\\n            TARGET 2  1991\\n            STOP LOSS 1967\\n            ',\n",
       " '\\n            COMEX\\n            BUY STOP XAUUSD @ 1979\\n            TARGET 1  1984\\n            TARGET 2  1989\\n            STOP LOSS 1972\\n            ']"
      ]
     },
     "execution_count": 10,
     "metadata": {},
     "output_type": "execute_result"
    }
   ],
   "source": [
    "p.examples"
   ]
  },
  {
   "cell_type": "code",
   "execution_count": 11,
   "id": "57eba51b",
   "metadata": {},
   "outputs": [
    {
     "name": "stderr",
     "output_type": "stream",
     "text": [
      "2023-05-30 21:14:27 utils.logger [767] INFO Will start to fit examples.\n"
     ]
    },
    {
     "name": "stdout",
     "output_type": "stream",
     "text": [
      "\n",
      "word_list=['GOLD', 'SELL', '1955', '1956', 'TP', '1950', 'TP', '1945', 'SL', '1962']\n",
      "id=00000, datetime=2023-05-30 21:14:27, author=\"PGV\", action=open, type=entry, direction=sell, symbol=GOLD, segment=None, CMP=None, EPs=[], SL=None, TPs=[], text=\"GOLD SELL 1955 1956 TP 1950 TP 1945 SL 1962\", \n",
      "\n",
      "word_list=['GOLD', 'SELL', '1946', 'TP', '1940', 'SL', '1953']\n",
      "id=00000, datetime=2023-05-30 21:14:27, author=\"PGV\", action=open, type=entry, direction=sell, symbol=GOLD, segment=None, CMP=None, EPs=[], SL=None, TPs=[], text=\"GOLD SELL 1946 TP 1940 SL 1953\", \n",
      "\n",
      "word_list=['GOLD', 'SELL', '1951', '1952', 'TP', '1948', 'TP', '1945', 'TP', '1943', 'TP', '1940', 'SL', '1960']\n",
      "id=00000, datetime=2023-05-30 21:14:27, author=\"PGV\", action=open, type=entry, direction=sell, symbol=GOLD, segment=None, CMP=None, EPs=[], SL=None, TPs=[], text=\"GOLD SELL 1951 1952 TP 1948 TP 1945 TP 1943 TP 1940 SL 1960\", \n",
      "\n",
      "word_list=['GOLD', 'BUY', '1955', 'TP', '1962', 'TP', '1969', 'SL', '1941']\n",
      "id=00000, datetime=2023-05-30 21:14:27, author=\"PGV\", action=open, type=entry, direction=buy, symbol=GOLD, segment=None, CMP=None, EPs=[], SL=None, TPs=[], text=\"GOLD BUY 1955 TP 1962 TP 1969 SL 1941\", \n",
      "\n",
      "word_list=['GOLD', 'BUY']\n",
      "id=00000, datetime=2023-05-30 21:14:27, author=\"PGV\", action=open, type=entry, direction=buy, symbol=GOLD, segment=None, CMP=None, EPs=[], SL=None, TPs=[], text=\"GOLD BUY\", \n",
      "\n",
      "word_list=['GOLD', 'SELL']\n",
      "id=00000, datetime=2023-05-30 21:14:27, author=\"PGV\", action=open, type=entry, direction=sell, symbol=GOLD, segment=None, CMP=None, EPs=[], SL=None, TPs=[], text=\"GOLD SELL\", \n",
      "\n",
      "word_list=['GOLD', 'CLOSE']\n",
      "id=00000, datetime=2023-05-30 21:14:27, author=\"PGV\", action=close, type=None, direction=None, symbol=GOLD, segment=None, CMP=None, EPs=[], SL=None, TPs=[], text=\"GOLD CLOSE\", \n",
      "\n",
      "word_list=['BUY', 'GOLD']\n",
      "id=00000, datetime=2023-05-30 21:14:27, author=\"PGV\", action=open, type=entry, direction=buy, symbol=GOLD, segment=None, CMP=None, EPs=[], SL=None, TPs=[], text=\"BUY GOLD\", \n",
      "\n",
      "word_list=['SELL', 'GOLD']\n",
      "id=00000, datetime=2023-05-30 21:14:27, author=\"PGV\", action=open, type=entry, direction=sell, symbol=GOLD, segment=None, CMP=None, EPs=[], SL=None, TPs=[], text=\"SELL GOLD\", \n",
      "\n",
      "word_list=['CLOSE', 'GOLD']\n",
      "id=00000, datetime=2023-05-30 21:14:27, author=\"PGV\", action=close, type=market, direction=None, symbol=GOLD, segment=None, CMP=None, EPs=[], SL=None, TPs=[], text=\"CLOSE GOLD\", \n",
      "\n",
      "word_list=['BUY', 'STOP', 'XAUUSD', '@', '1977', 'TARGET', '1', '1984', 'TARGET', '2', '1991', 'STOP', 'LOSS', '1967']\n",
      "id=00000, datetime=2023-05-30 21:14:27, author=\"PGV\", action=announcement, type=None, direction=None, symbol=None, segment=None, CMP=None, EPs=[], SL=None, TPs=[], text=\"BUY STOP XAUUSD @ 1977 TARGET 1 1984 TARGET 2 1991 STOP LOSS 1967\", \n",
      "\n",
      "word_list=['COMEX', 'BUY', 'STOP', 'XAUUSD', '@', '1979', 'TARGET', '1', '1984', 'TARGET', '2', '1989', 'STOP', 'LOSS', '1972']\n",
      "id=00000, datetime=2023-05-30 21:14:27, author=\"PGV\", action=announcement, type=None, direction=None, symbol=None, segment=None, CMP=None, EPs=[], SL=None, TPs=[], text=\"COMEX BUY STOP XAUUSD @ 1979 TARGET 1 1984 TARGET 2 1989 STOP LOSS 1972\", \n"
     ]
    }
   ],
   "source": [
    "p.fit_examples()"
   ]
  },
  {
   "cell_type": "markdown",
   "id": "0712aa85",
   "metadata": {},
   "source": [
    "# Paramount InfoTech"
   ]
  },
  {
   "cell_type": "code",
   "execution_count": null,
   "id": "7372691a",
   "metadata": {},
   "outputs": [],
   "source": [
    "p = (\n",
    "    # Parse_InvestorsWizard()\n",
    "    # Parse_PipsGainer()\n",
    "    Parse_ParamountInfoTech()\n",
    ")\n",
    "p"
   ]
  },
  {
   "cell_type": "code",
   "execution_count": null,
   "id": "6b28d7fc",
   "metadata": {},
   "outputs": [],
   "source": [
    "p.examples"
   ]
  },
  {
   "cell_type": "code",
   "execution_count": null,
   "id": "1786a555",
   "metadata": {},
   "outputs": [],
   "source": [
    "p.fit_examples()"
   ]
  },
  {
   "cell_type": "code",
   "execution_count": null,
   "id": "7da67d0f",
   "metadata": {},
   "outputs": [],
   "source": [
    "t = \"\"\"\n",
    "            Sell... Aud/Usd...@0.66705..\n",
    "            Target=0.66354... StopLoss=0.67006\n",
    "\n",
    "            Sell.... Aud/Chf...@0.59736...\n",
    "            Target=0.59280... StopLoss=0.60170\n",
    "            \"\"\"\n",
    "t"
   ]
  },
  {
   "cell_type": "code",
   "execution_count": null,
   "id": "4270eb5d",
   "metadata": {},
   "outputs": [],
   "source": [
    "orders = p.fit(t)\n",
    "orders"
   ]
  },
  {
   "cell_type": "code",
   "execution_count": null,
   "id": "00e1ec3c",
   "metadata": {},
   "outputs": [],
   "source": [
    "for o in orders:\n",
    "    print(o)"
   ]
  },
  {
   "cell_type": "code",
   "execution_count": null,
   "id": "eacafc34",
   "metadata": {},
   "outputs": [],
   "source": [
    "o.__str__()"
   ]
  },
  {
   "cell_type": "code",
   "execution_count": null,
   "id": "dbd08faf",
   "metadata": {},
   "outputs": [],
   "source": [
    "o.__str__() + \"\\n\""
   ]
  },
  {
   "cell_type": "code",
   "execution_count": null,
   "id": "b75d79a5",
   "metadata": {},
   "outputs": [],
   "source": [
    "print(\"Done all!\")"
   ]
  }
 ],
 "metadata": {
  "kernelspec": {
   "display_name": "Python 3 (ipykernel)",
   "language": "python",
   "name": "python3"
  },
  "language_info": {
   "codemirror_mode": {
    "name": "ipython",
    "version": 3
   },
   "file_extension": ".py",
   "mimetype": "text/x-python",
   "name": "python",
   "nbconvert_exporter": "python",
   "pygments_lexer": "ipython3",
   "version": "3.11.2"
  }
 },
 "nbformat": 4,
 "nbformat_minor": 5
}
