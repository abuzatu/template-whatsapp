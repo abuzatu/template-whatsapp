{
 "cells": [
  {
   "cell_type": "markdown",
   "id": "6c80aa3a",
   "metadata": {},
   "source": [
    "# Check parsing of messages for different signal providers"
   ]
  },
  {
   "cell_type": "code",
   "execution_count": null,
   "id": "398859cc",
   "metadata": {},
   "outputs": [],
   "source": [
    "# python\n",
    "import numpy as np\n",
    "\n",
    "# our modules\n",
    "from trading.parse_InvestorsWizard import Parse_InvestorsWizard\n",
    "from trading.parse_PipsGainer_v1 import Parse_PipsGainer_v1\n",
    "from trading.parse_PipsGainer_v2 import Parse_PipsGainer_v2 as Parse_PipsGainer\n",
    "from trading.parse_PipsGainer_v3 import Parse_PipsGainer_v3 as Parse_PipsGainer_Vinay\n",
    "from trading.parse_ParamountInfoTech import Parse_ParamountInfoTech\n",
    "from trading.parse_General import Parse_General\n",
    "\n",
    "# allow to use an updated module and use the change directly by refreshing the cell\n",
    "# without having to restart the entire notebook\n",
    "%load_ext autoreload\n",
    "%autoreload 2"
   ]
  },
  {
   "cell_type": "markdown",
   "id": "f48db8e4",
   "metadata": {},
   "source": [
    "# General"
   ]
  },
  {
   "cell_type": "code",
   "execution_count": null,
   "id": "d81d313f",
   "metadata": {},
   "outputs": [],
   "source": [
    "p = Parse_General(author = \"MyAuthor\")\n",
    "p"
   ]
  },
  {
   "cell_type": "code",
   "execution_count": null,
   "id": "63308e75",
   "metadata": {},
   "outputs": [],
   "source": [
    "p.examples"
   ]
  },
  {
   "cell_type": "code",
   "execution_count": null,
   "id": "43143cc7",
   "metadata": {},
   "outputs": [],
   "source": [
    "p.fit_examples()"
   ]
  },
  {
   "cell_type": "code",
   "execution_count": null,
   "id": "64b5089b",
   "metadata": {},
   "outputs": [],
   "source": [
    "a = \"BLA\"\n",
    "b = \"DFD\"\n",
    "rf\"{a} {b}\""
   ]
  },
  {
   "cell_type": "markdown",
   "id": "0efdf541",
   "metadata": {},
   "source": [
    "# Investors Wizard"
   ]
  },
  {
   "cell_type": "code",
   "execution_count": null,
   "id": "ebe3ba0a",
   "metadata": {},
   "outputs": [],
   "source": [
    "p = Parse_InvestorsWizard()\n",
    "p"
   ]
  },
  {
   "cell_type": "code",
   "execution_count": null,
   "id": "3ac45427",
   "metadata": {},
   "outputs": [],
   "source": [
    "p.examples"
   ]
  },
  {
   "cell_type": "code",
   "execution_count": null,
   "id": "d5dce385",
   "metadata": {},
   "outputs": [],
   "source": [
    "p.fit_examples()"
   ]
  },
  {
   "cell_type": "markdown",
   "id": "37c93503",
   "metadata": {},
   "source": [
    "# Pips Gainer"
   ]
  },
  {
   "cell_type": "code",
   "execution_count": null,
   "id": "360f4852",
   "metadata": {},
   "outputs": [],
   "source": [
    "p = Parse_PipsGainer()\n",
    "p"
   ]
  },
  {
   "cell_type": "code",
   "execution_count": null,
   "id": "0036a418",
   "metadata": {},
   "outputs": [],
   "source": [
    "p.examples"
   ]
  },
  {
   "cell_type": "code",
   "execution_count": null,
   "id": "2e384954",
   "metadata": {},
   "outputs": [],
   "source": [
    "p.fit_examples()"
   ]
  },
  {
   "cell_type": "markdown",
   "id": "5db45fe8",
   "metadata": {},
   "source": [
    "# Pips Gainer Vinay"
   ]
  },
  {
   "cell_type": "code",
   "execution_count": null,
   "id": "8cda0caa",
   "metadata": {},
   "outputs": [],
   "source": [
    "p = Parse_PipsGainer_Vinay()\n",
    "p"
   ]
  },
  {
   "cell_type": "code",
   "execution_count": null,
   "id": "ffea1e5c",
   "metadata": {},
   "outputs": [],
   "source": [
    "p.examples"
   ]
  },
  {
   "cell_type": "code",
   "execution_count": null,
   "id": "57eba51b",
   "metadata": {},
   "outputs": [],
   "source": [
    "p.fit_examples()"
   ]
  },
  {
   "cell_type": "markdown",
   "id": "0712aa85",
   "metadata": {},
   "source": [
    "# Paramount InfoTech"
   ]
  },
  {
   "cell_type": "code",
   "execution_count": null,
   "id": "7372691a",
   "metadata": {},
   "outputs": [],
   "source": [
    "p = (\n",
    "    # Parse_InvestorsWizard()\n",
    "    # Parse_PipsGainer()\n",
    "    Parse_ParamountInfoTech()\n",
    ")\n",
    "p"
   ]
  },
  {
   "cell_type": "code",
   "execution_count": null,
   "id": "6b28d7fc",
   "metadata": {},
   "outputs": [],
   "source": [
    "p.examples"
   ]
  },
  {
   "cell_type": "code",
   "execution_count": null,
   "id": "1786a555",
   "metadata": {},
   "outputs": [],
   "source": [
    "p.fit_examples()"
   ]
  },
  {
   "cell_type": "code",
   "execution_count": null,
   "id": "7da67d0f",
   "metadata": {},
   "outputs": [],
   "source": [
    "t = \"\"\"\n",
    "            Sell... Aud/Usd...@0.66705..\n",
    "            Target=0.66354... StopLoss=0.67006\n",
    "\n",
    "            Sell.... Aud/Chf...@0.59736...\n",
    "            Target=0.59280... StopLoss=0.60170\n",
    "            \"\"\"\n",
    "t"
   ]
  },
  {
   "cell_type": "code",
   "execution_count": null,
   "id": "4270eb5d",
   "metadata": {},
   "outputs": [],
   "source": [
    "orders = p.fit(t)\n",
    "orders"
   ]
  },
  {
   "cell_type": "code",
   "execution_count": null,
   "id": "00e1ec3c",
   "metadata": {},
   "outputs": [],
   "source": [
    "for o in orders:\n",
    "    print(o)"
   ]
  },
  {
   "cell_type": "code",
   "execution_count": null,
   "id": "eacafc34",
   "metadata": {},
   "outputs": [],
   "source": [
    "o.__str__()"
   ]
  },
  {
   "cell_type": "code",
   "execution_count": null,
   "id": "dbd08faf",
   "metadata": {},
   "outputs": [],
   "source": [
    "o.__str__() + \"\\n\""
   ]
  },
  {
   "cell_type": "code",
   "execution_count": null,
   "id": "b75d79a5",
   "metadata": {},
   "outputs": [],
   "source": [
    "print(\"Done all!\")"
   ]
  }
 ],
 "metadata": {
  "kernelspec": {
   "display_name": "Python 3 (ipykernel)",
   "language": "python",
   "name": "python3"
  },
  "language_info": {
   "codemirror_mode": {
    "name": "ipython",
    "version": 3
   },
   "file_extension": ".py",
   "mimetype": "text/x-python",
   "name": "python",
   "nbconvert_exporter": "python",
   "pygments_lexer": "ipython3",
   "version": "3.11.2"
  }
 },
 "nbformat": 4,
 "nbformat_minor": 5
}
