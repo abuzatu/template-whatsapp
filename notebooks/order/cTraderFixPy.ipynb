{
 "cells": [
  {
   "cell_type": "markdown",
   "id": "93a34a5f",
   "metadata": {},
   "source": [
    "# Test cTraderFixPy\n",
    "\n",
    "https://github.com/spotware/cTraderFixPy\n",
    "\n",
    "https://spotware.github.io/cTraderFixPy/"
   ]
  },
  {
   "cell_type": "code",
   "execution_count": null,
   "id": "86493652",
   "metadata": {},
   "outputs": [],
   "source": [
    "from twisted.internet import reactor\n",
    "from inputimeout import inputimeout, TimeoutOccurred\n",
    "import json\n",
    "from ctrader_fix import *\n",
    "\n",
    "from configs.settings import work_dir"
   ]
  },
  {
   "cell_type": "code",
   "execution_count": null,
   "id": "c0300fc0",
   "metadata": {},
   "outputs": [],
   "source": [
    "# you can use two separate config files for QUOTE and TRADE\n",
    "config_type = (\n",
    "    \"trade\"\n",
    "    # \"quote\"\n",
    ")\n",
    "with open(f\"{work_dir()}/src/configs/ctrader_{config_type}_demo_1.json\") as configFile:\n",
    "    config = json.load(configFile)\n",
    "config"
   ]
  },
  {
   "cell_type": "code",
   "execution_count": null,
   "id": "adcd6322",
   "metadata": {},
   "outputs": [],
   "source": [
    "# set up client based on the config\n",
    "client = Client(config[\"Host\"], config[\"Port\"], ssl = config[\"SSL\"])\n",
    "client"
   ]
  },
  {
   "cell_type": "code",
   "execution_count": null,
   "id": "89a1dc87",
   "metadata": {},
   "outputs": [],
   "source": [
    "# Callback for receiving all messages\n",
    "# def onMessageReceived(client, responseMessage):\n",
    "#    print(\"Received: \", responseMessage.getMessage().replace(\"\\01\", \"|\"))\n",
    "#    messageType = responseMessage.getFieldValue(35)\n",
    "#    if messageType == \"A\":\n",
    "#        print(\"We are logged in\")"
   ]
  },
  {
   "cell_type": "code",
   "execution_count": null,
   "id": "f3a80c3d",
   "metadata": {},
   "outputs": [],
   "source": [
    "def send(request):\n",
    "    diferred = client.send(request)\n",
    "    diferred.addCallback(lambda _: print(\"\\nSent: \", request.getMessage(client.getMessageSequenceNumber()).replace(\"\\01\", \"|\")))\n",
    "    # diferred.addCallback(lambda _: print(\"\\nSent: \", request.getMessage(client.getMessageSequenceNumber())))\n",
    "\n"
   ]
  },
  {
   "cell_type": "code",
   "execution_count": null,
   "id": "1434d068",
   "metadata": {},
   "outputs": [],
   "source": [
    "def onMessageReceived(client, responseMessage): # Callback for receiving all messages\n",
    "    print(\"\\nReceived: \", responseMessage.getMessage().replace(\"\\01\", \"|\"))\n",
    "    # We get the message type field value\n",
    "    messageType = responseMessage.getFieldValue(35)\n",
    "    a = responseMessage.getFieldValue(721)\n",
    "    print(f\"a={a}\")\n",
    "    # we send a security list request after we received logon message response\n",
    "    if messageType == \"A\":\n",
    "        print(\"A\")\n",
    "        securityListRequest = SecurityListRequest(config)\n",
    "        securityListRequest.SecurityReqID = \"A\"\n",
    "        securityListRequest.SecurityListRequestType = 0\n",
    "        print(f\"securityListRequest={securityListRequest}\")\n",
    "        send(securityListRequest)\n",
    "    # After receiving the security list we send a market order request by using the security list first symbol\n",
    "    elif messageType == \"y\":\n",
    "        print(\"B\")\n",
    "        # We use getFieldValue to get all symbol IDs, it will return a list in this case\n",
    "        # because the symbol ID field is repetitive\n",
    "        symboldIds = responseMessage.getFieldValue(55)\n",
    "        print(f\"symboldIds={symboldIds}\")\n",
    "        print(f\"symboldIds[1]={symboldIds[2]}\")\n",
    "        print(\"C\")\n",
    "        if config[\"TargetSubID\"] == \"TRADE\":\n",
    "            \n",
    "            print(\"D\")\n",
    "            newOrderSingle = NewOrderSingle(config)\n",
    "            newOrderSingle.ClOrdID = \"B\"\n",
    "            # newOrderSingle.Symbol = symboldIds[1]\n",
    "            newOrderSingle.Symbol = \"41\" # AUDCHF\n",
    "            newOrderSingle.Side = 2\n",
    "            newOrderSingle.OrderQty = 2\n",
    "            newOrderSingle.OrdType = 1\n",
    "            # newOrderSingle.Price = 1940\n",
    "            # newOrderSingle.StopPx = 2000\n",
    "            #newOrderSingle.OrdType = 2  # Limit order\n",
    "            #newOrderSingle.Price = 1950.00  # Set the buy price here\n",
    "            newOrderSingle.Designation = \"From Jupyter\"\n",
    "            print(f\"newOrderSingle={newOrderSingle}\")\n",
    "            send(newOrderSingle)\n",
    "            print(\"E\")\n",
    "            \n",
    "            print(\"D2\")\n",
    "            newOrderSingle = NewOrderSingle(config)\n",
    "            newOrderSingle.ClOrdID = \"B2\"\n",
    "            # newOrderSingle.Symbol = symboldIds[1]\n",
    "            newOrderSingle.Symbol = \"41\" # AUDCHF\n",
    "            newOrderSingle.Side = 2\n",
    "            newOrderSingle.OrderQty = 3\n",
    "            newOrderSingle.OrdType = 1\n",
    "            # newOrderSingle.Price = 1940\n",
    "            # newOrderSingle.StopPx = 2000\n",
    "            #newOrderSingle.OrdType = 2  # Limit order\n",
    "            #newOrderSingle.Price = 1950.00  # Set the buy price here\n",
    "            newOrderSingle.Designation = \"From Jupyter\"\n",
    "            print(f\"newOrderSingle={newOrderSingle}\")\n",
    "            send(newOrderSingle)\n",
    "            print(\"E2\")\n",
    "            \n",
    "            print(\"ZZZZ REquest for postions\")\n",
    "            r=RequestForPositions(config)\n",
    "            r.PosReqID=338960103\n",
    "            print(f\"newOrderSingle={newOrderSingle}\")\n",
    "            send(r)\n",
    "            print(\"r done\")\n",
    "            \n",
    "            \n",
    "        else:\n",
    "            print(\"F\")\n",
    "            marketDataRequest = MarketDataRequest(config)\n",
    "            marketDataRequest.MDReqID = \"a\"\n",
    "            marketDataRequest.SubscriptionRequestType = 1\n",
    "            marketDataRequest.MarketDepth = 1\n",
    "            marketDataRequest.NoMDEntryTypes = 1\n",
    "            marketDataRequest.MDEntryType = 0\n",
    "            marketDataRequest.NoRelatedSym = 1\n",
    "            # marketDataRequest.Symbol = symboldIds[1]\n",
    "            marketDataRequest.Symbol = \"41\"\n",
    "            send(marketDataRequest)\n",
    "            print(f\"marketDataRequest={marketDataRequest}\")\n",
    "            print(\"G\")\n",
    "    # after receiving the new order request response we stop the reactor\n",
    "    # And we will be disconnected from API\n",
    "    elif messageType == \"8\" or messageType == \"j\":\n",
    "        print(\"H\")\n",
    "        print(\"We are done, stopping the reactor\")\n",
    "        # reactor.stop()\n",
    "    print(\"I\")\n"
   ]
  },
  {
   "cell_type": "code",
   "execution_count": null,
   "id": "0a23e55b",
   "metadata": {},
   "outputs": [],
   "source": [
    "# Callback for client disconnection\n",
    "def disconnected(client, reason): \n",
    "    print(\"Disconnected, reason: \", reason)"
   ]
  },
  {
   "cell_type": "code",
   "execution_count": null,
   "id": "dd38acfe",
   "metadata": {},
   "outputs": [],
   "source": [
    "# Callback for client connection\n",
    "def connected(client):\n",
    "    print(\"Connected\")\n",
    "    logonRequest = LogonRequest(config)\n",
    "    send(logonRequest)"
   ]
  },
  {
   "cell_type": "code",
   "execution_count": null,
   "id": "2d50131e",
   "metadata": {},
   "outputs": [],
   "source": [
    "# Setting client callbacks\n",
    "client.setConnectedCallback(connected)\n",
    "client.setDisconnectedCallback(disconnected)\n",
    "client.setMessageReceivedCallback(onMessageReceived)"
   ]
  },
  {
   "cell_type": "code",
   "execution_count": null,
   "id": "36b9e6ac",
   "metadata": {},
   "outputs": [],
   "source": [
    "# Starting the client service\n",
    "client.startService()"
   ]
  },
  {
   "cell_type": "code",
   "execution_count": null,
   "id": "3f23846a",
   "metadata": {},
   "outputs": [],
   "source": []
  },
  {
   "cell_type": "code",
   "execution_count": null,
   "id": "b7d18f0c",
   "metadata": {},
   "outputs": [],
   "source": []
  },
  {
   "cell_type": "code",
   "execution_count": null,
   "id": "5633777c",
   "metadata": {},
   "outputs": [],
   "source": [
    "# run\n",
    "reactor.run()"
   ]
  },
  {
   "cell_type": "code",
   "execution_count": null,
   "id": "1f628c88",
   "metadata": {},
   "outputs": [],
   "source": [
    "a"
   ]
  },
  {
   "cell_type": "code",
   "execution_count": null,
   "id": "3d4da84e",
   "metadata": {},
   "outputs": [],
   "source": []
  }
 ],
 "metadata": {
  "kernelspec": {
   "display_name": "Python 3 (ipykernel)",
   "language": "python",
   "name": "python3"
  },
  "language_info": {
   "codemirror_mode": {
    "name": "ipython",
    "version": 3
   },
   "file_extension": ".py",
   "mimetype": "text/x-python",
   "name": "python",
   "nbconvert_exporter": "python",
   "pygments_lexer": "ipython3",
   "version": "3.11.2"
  }
 },
 "nbformat": 4,
 "nbformat_minor": 5
}
