{
 "cells": [
  {
   "cell_type": "markdown",
   "id": "e2f538af",
   "metadata": {},
   "source": [
    "# Test cTraderFixPy\n",
    "\n",
    "https://github.com/spotware/cTraderFixPy\n",
    "\n",
    "https://spotware.github.io/cTraderFixPy/"
   ]
  },
  {
   "cell_type": "code",
   "execution_count": 2,
   "id": "d77c14ad",
   "metadata": {},
   "outputs": [],
   "source": [
    "from twisted.internet import reactor\n",
    "from inputimeout import inputimeout, TimeoutOccurred\n",
    "import json\n",
    "from ctrader_fix import *"
   ]
  },
  {
   "cell_type": "code",
   "execution_count": 3,
   "id": "4684d907",
   "metadata": {},
   "outputs": [],
   "source": [
    "# Callback for receiving all messages\n",
    "def onMessageReceived(client, responseMessage):\n",
    "    print(\"Received: \", responseMessage.getMessage().replace(\"�\", \"|\"))\n",
    "    messageType = responseMessage.getFieldValue(35)\n",
    "    if messageType == \"A\":\n",
    "        print(\"We are logged in\")"
   ]
  },
  {
   "cell_type": "code",
   "execution_count": 4,
   "id": "712bad2d",
   "metadata": {},
   "outputs": [],
   "source": [
    "# Callback for client disconnection\n",
    "def disconnected(client, reason): \n",
    "    print(\"Disconnected, reason: \", reason)"
   ]
  },
  {
   "cell_type": "code",
   "execution_count": 5,
   "id": "8f665b9f",
   "metadata": {},
   "outputs": [],
   "source": [
    "# Callback for client connection\n",
    "def connected(client):\n",
    "    print(\"Connected\")\n",
    "    logonRequest = LogonRequest(config)\n",
    "    send(logonRequest)"
   ]
  },
  {
   "cell_type": "code",
   "execution_count": null,
   "id": "04937991",
   "metadata": {},
   "outputs": [],
   "source": []
  }
 ],
 "metadata": {
  "kernelspec": {
   "display_name": "Python 3 (ipykernel)",
   "language": "python",
   "name": "python3"
  },
  "language_info": {
   "codemirror_mode": {
    "name": "ipython",
    "version": 3
   },
   "file_extension": ".py",
   "mimetype": "text/x-python",
   "name": "python",
   "nbconvert_exporter": "python",
   "pygments_lexer": "ipython3",
   "version": "3.11.2"
  }
 },
 "nbformat": 4,
 "nbformat_minor": 5
}
