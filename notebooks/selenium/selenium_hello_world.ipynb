{
 "cells": [
  {
   "cell_type": "markdown",
   "id": "3ebee8c1",
   "metadata": {},
   "source": [
    "# Whatsapp reading messages\n",
    "\n",
    "https://stackoverflow.com/questions/65299796/how-do-i-read-whatsapp-messages-from-a-contact-using-python\n",
    "\n",
    "https://medium.com/analytics-vidhya/simple-whatsapp-automation-using-python3-and-selenium-77dad606284b"
   ]
  },
  {
   "cell_type": "markdown",
   "id": "6ba3dfb6",
   "metadata": {},
   "source": [
    "# From a Docker\n",
    "\n",
    "Calling a docker of standalone-chromium\n",
    "\n",
    "To avoid to scan for Whatsapp every time, we create a user profile on the image."
   ]
  },
  {
   "cell_type": "code",
   "execution_count": null,
   "id": "cc8b2104",
   "metadata": {
    "scrolled": false
   },
   "outputs": [],
   "source": [
    "from selenium import webdriver\n",
    "from selenium.webdriver.chrome.options import Options\n",
    "import time\n",
    "\n",
    "# CHROME_PROFILE_PATH=\"user-data-dir=$HOME/.config/google-chrome/Whatsapp\"\n",
    "CHROME_PROFILE_PATH=\"user-data-dir=/home/seluser/.config/chromium/google-chrome/Whatsapp\"\n",
    "# remove Default from below and replace with our new folder called \"Whatsapp\"\n",
    "# MacOS: /Users/abuzatu/Library/Application Support/Google/Chrome/Default\n",
    "# Linux: home/abuzatu/.config/google-chrome/default\n",
    "\n",
    "# Set up Chrome options\n",
    "chrome_options = Options()\n",
    "#chrome_options.add_argument('--headless') # Commented out\n",
    "chrome_options.add_argument('--no-sandbox')\n",
    "chrome_options.add_argument('--disable-dev-shm-usage')\n",
    "chrome_options.add_argument('--disable-gpu')\n",
    "chrome_options.add_argument(CHROME_PROFILE_PATH)\n",
    "\n",
    "# Start ChromeDriver\n",
    "driver = webdriver.Remote(\n",
    "    command_executor='http://standalone-selenium-chrome:4444/wd/hub',\n",
    "    options=chrome_options\n",
    ")\n",
    "driver.maximize_window()\n",
    "\n",
    "driver.get('https://www.google.com')\n",
    "time.sleep(5)\n",
    "\n",
    "driver.get('https://www.hotnews.ro/sport')\n",
    "time.sleep(5)\n",
    "\n",
    "driver.get('https://web.whatsapp.com')\n",
    "time.sleep(30)"
   ]
  },
  {
   "cell_type": "code",
   "execution_count": null,
   "id": "db91129c",
   "metadata": {},
   "outputs": [],
   "source": [
    "# take a screenshot of the page\n",
    "driver.save_screenshot(\"screenshot.png\")"
   ]
  },
  {
   "cell_type": "code",
   "execution_count": null,
   "id": "c7a19b13",
   "metadata": {},
   "outputs": [],
   "source": [
    "# create html or save the file as html\n",
    "html = driver.page_source\n",
    "print(html)"
   ]
  },
  {
   "cell_type": "code",
   "execution_count": null,
   "id": "891c35fb",
   "metadata": {},
   "outputs": [],
   "source": [
    "with open('example.html', 'w') as f:\n",
    "    f.write(html)"
   ]
  },
  {
   "cell_type": "code",
   "execution_count": null,
   "id": "e7fe40dd",
   "metadata": {},
   "outputs": [],
   "source": [
    "# You can end the driver\n",
    "# driver.quit()"
   ]
  },
  {
   "cell_type": "code",
   "execution_count": null,
   "id": "74ba2924",
   "metadata": {},
   "outputs": [],
   "source": [
    "assert False"
   ]
  },
  {
   "cell_type": "markdown",
   "id": "f78785b4",
   "metadata": {},
   "source": [
    "# Local without Docker"
   ]
  },
  {
   "cell_type": "code",
   "execution_count": null,
   "id": "a4ee3d46",
   "metadata": {},
   "outputs": [],
   "source": [
    "from selenium import webdriver\n",
    "from selenium.webdriver.chrome.service import Service\n",
    "\n",
    "# create a Service object with the path to the chromedriver executable\n",
    "chromedriver_path = '/usr/local/bin/chromedriver'\n",
    "service = Service(executable_path=chromedriver_path)\n",
    "\n",
    "CHROME_PROFILE_PATH=\"user-data-dir=$HOME/.config/google-chrome/Whatsapp\"\n",
    "# CHROME_PROFILE_PATH=\"user-data-dir=/home/seluser/.config/chromium/google-chrome/Whatsappp\"\n",
    "# remove Default from below and replace with our new folder called \"Whatsapp\"\n",
    "# MacOS: /Users/abuzatu/Library/Application Support/Google/Chrome/Default\n",
    "# Linux: home/abuzatu/.config/google-chrome/default\n",
    "\n",
    "# Set up Chrome options\n",
    "chrome_options = Options()\n",
    "chrome_options.add_argument(CHROME_PROFILE_PATH)\n",
    "\n",
    "# create a ChromeDriver instance using the Service object\n",
    "driver = webdriver.Chrome(service=service, options=chrome_options)"
   ]
  }
 ],
 "metadata": {
  "kernelspec": {
   "display_name": "Python 3 (ipykernel)",
   "language": "python",
   "name": "python3"
  },
  "language_info": {
   "codemirror_mode": {
    "name": "ipython",
    "version": 3
   },
   "file_extension": ".py",
   "mimetype": "text/x-python",
   "name": "python",
   "nbconvert_exporter": "python",
   "pygments_lexer": "ipython3",
   "version": "3.11.2"
  }
 },
 "nbformat": 4,
 "nbformat_minor": 5
}
