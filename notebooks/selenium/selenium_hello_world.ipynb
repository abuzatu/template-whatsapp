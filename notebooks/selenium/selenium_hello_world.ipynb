{
 "cells": [
  {
   "cell_type": "markdown",
   "id": "3ebee8c1",
   "metadata": {},
   "source": [
    "# Whatsapp reading messages\n",
    "\n",
    "https://stackoverflow.com/questions/65299796/how-do-i-read-whatsapp-messages-from-a-contact-using-python\n",
    "\n",
    "https://medium.com/analytics-vidhya/simple-whatsapp-automation-using-python3-and-selenium-77dad606284b"
   ]
  },
  {
   "cell_type": "code",
   "execution_count": 1,
   "id": "37dd468c",
   "metadata": {},
   "outputs": [],
   "source": [
    "from selenium import webdriver\n",
    "from selenium.webdriver.chrome.options import Options"
   ]
  },
  {
   "cell_type": "code",
   "execution_count": 2,
   "id": "e41c2091",
   "metadata": {},
   "outputs": [],
   "source": [
    "# Set up Chrome options\n",
    "chrome_options = Options()\n",
    "#chrome_options.add_argument('--headless') # Commented out\n",
    "# chrome_options.add_argument('--no-sandbox')\n",
    "chrome_options.add_argument('--disable-dev-shm-usage')\n",
    "chrome_options.add_argument('--disable-gpu')"
   ]
  },
  {
   "cell_type": "code",
   "execution_count": null,
   "id": "208ede40",
   "metadata": {},
   "outputs": [],
   "source": [
    "# Start ChromeDriver\n",
    "driver = webdriver.Remote(\n",
    "    command_executor='http://standalone-chromium:4444/wd/hub',\n",
    "    options=chrome_options\n",
    ")"
   ]
  },
  {
   "cell_type": "code",
   "execution_count": null,
   "id": "e9efddb2",
   "metadata": {},
   "outputs": [],
   "source": []
  },
  {
   "cell_type": "code",
   "execution_count": null,
   "id": "6d969226",
   "metadata": {},
   "outputs": [],
   "source": []
  },
  {
   "cell_type": "code",
   "execution_count": null,
   "id": "f2340aae",
   "metadata": {},
   "outputs": [],
   "source": [
    "from selenium import webdriver\n",
    "from selenium.webdriver.chrome.options import Options\n",
    "\n",
    "# Set up Chrome options\n",
    "chrome_options = Options()\n",
    "#chrome_options.add_argument('--headless') # Commented out\n",
    "# chrome_options.add_argument('--no-sandbox')\n",
    "chrome_options.add_argument('--disable-dev-shm-usage')\n",
    "chrome_options.add_argument('--disable-gpu')\n",
    "\n",
    "# Start ChromeDriver\n",
    "driver = webdriver.Remote(\n",
    "    command_executor='http://standalone-chromium:4444/wd/hub',\n",
    "    options=chrome_options\n",
    ")\n",
    "\n",
    "# Navigate to Google.com\n",
    "# driver.get('https://www.google.com')\n",
    "driver.get('https://web.whatsapp.com')"
   ]
  },
  {
   "cell_type": "code",
   "execution_count": null,
   "id": "9c1b4e74",
   "metadata": {},
   "outputs": [],
   "source": [
    "driver.get('https://www.web.whatsapp.com')"
   ]
  },
  {
   "cell_type": "code",
   "execution_count": null,
   "id": "2da9de18",
   "metadata": {},
   "outputs": [],
   "source": []
  },
  {
   "cell_type": "code",
   "execution_count": null,
   "id": "a368368e",
   "metadata": {},
   "outputs": [],
   "source": [
    "driver.save_screenshot(\"screenshot.png\")"
   ]
  },
  {
   "cell_type": "code",
   "execution_count": null,
   "id": "7318d32d",
   "metadata": {},
   "outputs": [],
   "source": [
    "html = driver.page_source"
   ]
  },
  {
   "cell_type": "code",
   "execution_count": null,
   "id": "8037c371",
   "metadata": {},
   "outputs": [],
   "source": [
    "print(html)"
   ]
  },
  {
   "cell_type": "code",
   "execution_count": null,
   "id": "3fe7fa67",
   "metadata": {},
   "outputs": [],
   "source": [
    "with open('example.html', 'w') as f:\n",
    "    f.write(html)"
   ]
  },
  {
   "cell_type": "code",
   "execution_count": null,
   "id": "7e584489",
   "metadata": {},
   "outputs": [],
   "source": [
    "# driver.quit()"
   ]
  },
  {
   "cell_type": "code",
   "execution_count": null,
   "id": "4e9075aa",
   "metadata": {},
   "outputs": [],
   "source": [
    "assert False"
   ]
  },
  {
   "cell_type": "code",
   "execution_count": null,
   "id": "e0f646d1",
   "metadata": {},
   "outputs": [],
   "source": []
  },
  {
   "cell_type": "code",
   "execution_count": null,
   "id": "a4ee3d46",
   "metadata": {},
   "outputs": [],
   "source": [
    "from selenium import webdriver\n",
    "from selenium.webdriver.chrome.service import Service\n",
    "\n",
    "# create a Service object with the path to the chromedriver executable\n",
    "chromedriver_path = '/usr/local/bin/chromedriver'\n",
    "service = Service(executable_path=chromedriver_path)\n",
    "\n",
    "# create a ChromeDriver instance using the Service object\n",
    "driver = webdriver.Chrome(service=service)\n"
   ]
  },
  {
   "cell_type": "code",
   "execution_count": null,
   "id": "1f0f870e",
   "metadata": {},
   "outputs": [],
   "source": [
    "from selenium import webdriver"
   ]
  },
  {
   "cell_type": "code",
   "execution_count": null,
   "id": "22e48795",
   "metadata": {},
   "outputs": [],
   "source": [
    "# Set up ChromeDriver options\n",
    "options = webdriver.ChromeOptions()\n",
    "options.add_argument('--headless')\n",
    "options.add_argument('--no-sandbox')\n",
    "options.add_argument('--disable-dev-shm-usage')"
   ]
  },
  {
   "cell_type": "code",
   "execution_count": null,
   "id": "74b4436d",
   "metadata": {},
   "outputs": [],
   "source": [
    "# Start ChromeDriver\n",
    "driver = webdriver.Chrome(options=options)"
   ]
  },
  {
   "cell_type": "code",
   "execution_count": null,
   "id": "ddc4379f",
   "metadata": {},
   "outputs": [],
   "source": [
    "from selenium import webdriver\n",
    "\n",
    "# Set up ChromeDriver options\n",
    "options = webdriver.ChromeOptions()\n",
    "options.add_argument('--headless')\n",
    "options.add_argument('--no-sandbox')\n",
    "options.add_argument('--disable-dev-shm-usage')\n",
    "\n",
    "# Start ChromeDriver\n",
    "driver = webdriver.Chrome(options=options)\n",
    "\n",
    "# Open Google\n",
    "driver.get('https://www.google.com')\n",
    "\n",
    "# Find the search box and enter a query\n",
    "search_box = driver.find_element_by_name('q')\n",
    "search_box.send_keys('Selenium with Docker')\n",
    "\n",
    "# Submit the search\n",
    "search_box.submit()\n",
    "\n",
    "# Wait for the search results to load\n",
    "driver.implicitly_wait(10)\n",
    "\n",
    "# Print the page title\n",
    "print(driver.title)\n",
    "\n",
    "# Quit ChromeDriver\n",
    "driver.quit()\n"
   ]
  },
  {
   "cell_type": "code",
   "execution_count": null,
   "id": "bd464d35",
   "metadata": {},
   "outputs": [],
   "source": []
  },
  {
   "cell_type": "code",
   "execution_count": null,
   "id": "2e560526",
   "metadata": {},
   "outputs": [],
   "source": []
  },
  {
   "cell_type": "code",
   "execution_count": null,
   "id": "c1b205e2",
   "metadata": {},
   "outputs": [],
   "source": []
  },
  {
   "cell_type": "code",
   "execution_count": null,
   "id": "8f43e37f",
   "metadata": {},
   "outputs": [],
   "source": [
    "from selenium import webdriver\n",
    "driver = webdriver.Chrome()\n",
    "import time\n",
    "#from webdriver_manager.chrome import ChromeDriverManager\n",
    "#driver = webdriver.Chrome(ChromeDriverManager().install())\n",
    "#driver = webdriver.Chrome(\"/Users/abuzatu/Work/whatsapp/chromedriver\")\n",
    "driver.get(\"http://google.com\")\n",
    "time.sleep(2)\n",
    "driver.quit()"
   ]
  },
  {
   "cell_type": "code",
   "execution_count": null,
   "id": "10d05a90",
   "metadata": {},
   "outputs": [],
   "source": [
    "EXECUTABLE_PATH=\"/usr/local/bin/chromedriver\"\n",
    "\n",
    "# CHROME_PROFILE_PATH=\"user-data-dir=/Users/abuzatu/Library/Application Support/Google/Chrome/Whatsapp\"\n",
    "# remove Default from below and replacd with our new folder called \"Whatsapp\"\n",
    "# MacOS: /Users/abuzatu/Library/Application Support/Google/Chrome/Default\n",
    "# Linux: home/abuzatu/.config/google-chrome/default\n",
    "\n",
    "options=webdriver.ChromeOptions()\n",
    "# options.add_argument(CHROME_PROFILE_PATH)\n",
    "# use the options to ask to scan the QR code only the first time\n",
    "# driver = webdriver.Chrome(options=options, executable_path=EXECUTABLE_PATH)\n",
    "driver = webdriver.Chrome()"
   ]
  },
  {
   "cell_type": "code",
   "execution_count": null,
   "id": "cbce7591",
   "metadata": {},
   "outputs": [],
   "source": [
    "        # old: asks to scan the QR code every time\n",
    "        # driver = webdriver.Chrome()\n",
    "        self.driver.maximize_window()\n",
    "        # for test\n",
    "        # self.driver.get(\"https://google.com\")"
   ]
  }
 ],
 "metadata": {
  "kernelspec": {
   "display_name": "Python 3 (ipykernel)",
   "language": "python",
   "name": "python3"
  },
  "language_info": {
   "codemirror_mode": {
    "name": "ipython",
    "version": 3
   },
   "file_extension": ".py",
   "mimetype": "text/x-python",
   "name": "python",
   "nbconvert_exporter": "python",
   "pygments_lexer": "ipython3",
   "version": "3.11.2"
  }
 },
 "nbformat": 4,
 "nbformat_minor": 5
}
