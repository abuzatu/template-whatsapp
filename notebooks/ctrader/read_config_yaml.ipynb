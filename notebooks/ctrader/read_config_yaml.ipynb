{
 "cells": [
  {
   "cell_type": "markdown",
   "id": "bb02dfca",
   "metadata": {},
   "source": [
    "# Read the config in yaml about the accounts credentials"
   ]
  },
  {
   "cell_type": "code",
   "execution_count": null,
   "id": "5b058cfb",
   "metadata": {},
   "outputs": [],
   "source": [
    "import yaml\n",
    "from pprint import pprint"
   ]
  },
  {
   "cell_type": "code",
   "execution_count": null,
   "id": "8f8f1300",
   "metadata": {},
   "outputs": [],
   "source": [
    "input_file_name = \"config_accounts.yaml\""
   ]
  },
  {
   "cell_type": "code",
   "execution_count": null,
   "id": "bd91f2cf",
   "metadata": {},
   "outputs": [],
   "source": [
    "# Open the YAML file\n",
    "with open(input_file_name, 'r') as file:\n",
    "    # Load the YAML content\n",
    "    yaml_data = yaml.load(file, Loader=yaml.FullLoader)\n",
    "yaml_data"
   ]
  },
  {
   "cell_type": "code",
   "execution_count": null,
   "id": "732c8cf3",
   "metadata": {},
   "outputs": [],
   "source": [
    "# Use pprint to pretty print the YAML data\n",
    "pprint(yaml_data)"
   ]
  },
  {
   "cell_type": "code",
   "execution_count": null,
   "id": "911a8756",
   "metadata": {},
   "outputs": [],
   "source": [
    "credentials = [c for c in yaml_data[\"accounts\"] if c[\"name\"] == \"Hishal\"][0]\n",
    "credentials"
   ]
  }
 ],
 "metadata": {
  "kernelspec": {
   "display_name": "Python 3 (ipykernel)",
   "language": "python",
   "name": "python3"
  },
  "language_info": {
   "codemirror_mode": {
    "name": "ipython",
    "version": 3
   },
   "file_extension": ".py",
   "mimetype": "text/x-python",
   "name": "python",
   "nbconvert_exporter": "python",
   "pygments_lexer": "ipython3",
   "version": "3.9.9"
  }
 },
 "nbformat": 4,
 "nbformat_minor": 5
}
