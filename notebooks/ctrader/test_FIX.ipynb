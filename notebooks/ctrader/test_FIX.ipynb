{
 "cells": [
  {
   "cell_type": "markdown",
   "id": "98c24746",
   "metadata": {},
   "source": [
    "# Notebook to play with the FIX class"
   ]
  },
  {
   "cell_type": "code",
   "execution_count": null,
   "id": "4508d542",
   "metadata": {},
   "outputs": [],
   "source": [
    "# python\n",
    "import numpy as np\n",
    "from pprint import pformat\n",
    "\n",
    "# our modules\n",
    "from ctrader.fix import Field\n",
    "\n",
    "# allow to use an updated module and use the change directly by refreshing the cell\n",
    "# without having to restart the entire notebook\n",
    "%load_ext autoreload\n",
    "%autoreload 2"
   ]
  },
  {
   "cell_type": "markdown",
   "id": "4dd00187",
   "metadata": {},
   "source": [
    "# Field"
   ]
  },
  {
   "cell_type": "code",
   "execution_count": null,
   "id": "6a646d02",
   "metadata": {},
   "outputs": [],
   "source": [
    "f = Field\n",
    "f"
   ]
  },
  {
   "cell_type": "code",
   "execution_count": null,
   "id": "f9b4f32d",
   "metadata": {},
   "outputs": [],
   "source": [
    "type(f)"
   ]
  },
  {
   "cell_type": "code",
   "execution_count": null,
   "id": "ec6c1eac",
   "metadata": {},
   "outputs": [],
   "source": [
    "# the type to be written for mypy is of type Field\n",
    "type(Field.BeginString)"
   ]
  },
  {
   "cell_type": "code",
   "execution_count": null,
   "id": "e817d034",
   "metadata": {},
   "outputs": [],
   "source": [
    "Field.BeginString.name"
   ]
  },
  {
   "cell_type": "code",
   "execution_count": null,
   "id": "99b380b8",
   "metadata": {},
   "outputs": [],
   "source": [
    "Field.BeginString.value"
   ]
  },
  {
   "cell_type": "code",
   "execution_count": null,
   "id": "58758f6a",
   "metadata": {},
   "outputs": [],
   "source": [
    "fields = []\n",
    "fields.append((Field.BeginString, \"FIX.4.4\"))\n",
    "fields.append((Field.BodyLength, 0))\n",
    "fields"
   ]
  },
  {
   "cell_type": "markdown",
   "id": "3eca6d9d",
   "metadata": {},
   "source": [
    "# pformat for human readable with identation\n",
    "\n",
    "although in our case it does not matter it seems"
   ]
  },
  {
   "cell_type": "code",
   "execution_count": null,
   "id": "871fe305",
   "metadata": {},
   "outputs": [],
   "source": [
    "[(k.name, v) for k, v in fields]"
   ]
  },
  {
   "cell_type": "code",
   "execution_count": null,
   "id": "75c3aaa6",
   "metadata": {},
   "outputs": [],
   "source": [
    "p=pformat([(k.name, v) for k, v in fields])\n",
    "p"
   ]
  },
  {
   "cell_type": "code",
   "execution_count": null,
   "id": "e0b76d8d",
   "metadata": {},
   "outputs": [],
   "source": [
    "type(p)"
   ]
  },
  {
   "cell_type": "code",
   "execution_count": null,
   "id": "741907fa",
   "metadata": {},
   "outputs": [],
   "source": [
    "data = {\n",
    "    'name': 'John Doe',\n",
    "    'age': 30,\n",
    "    'city': 'New York',\n",
    "    'contacts': [\n",
    "        {\n",
    "            'type': 'email',\n",
    "            'value': 'johndoe@example.com'\n",
    "        },\n",
    "        {\n",
    "            'type': 'phone',\n",
    "            'value': '555-123-4567'\n",
    "        }\n",
    "    ]\n",
    "}\n",
    "data"
   ]
  },
  {
   "cell_type": "code",
   "execution_count": null,
   "id": "cf2961eb",
   "metadata": {},
   "outputs": [],
   "source": [
    "formatted_data = pformat(data)\n",
    "print(formatted_data)"
   ]
  },
  {
   "cell_type": "code",
   "execution_count": null,
   "id": "e06e9820",
   "metadata": {},
   "outputs": [],
   "source": []
  },
  {
   "cell_type": "code",
   "execution_count": null,
   "id": "e7e4fc3a",
   "metadata": {},
   "outputs": [],
   "source": []
  }
 ],
 "metadata": {
  "kernelspec": {
   "display_name": "Python 3 (ipykernel)",
   "language": "python",
   "name": "python3"
  },
  "language_info": {
   "codemirror_mode": {
    "name": "ipython",
    "version": 3
   },
   "file_extension": ".py",
   "mimetype": "text/x-python",
   "name": "python",
   "nbconvert_exporter": "python",
   "pygments_lexer": "ipython3",
   "version": "3.11.2"
  }
 },
 "nbformat": 4,
 "nbformat_minor": 5
}
