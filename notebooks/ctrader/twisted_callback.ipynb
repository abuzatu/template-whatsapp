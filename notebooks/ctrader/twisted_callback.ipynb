{
 "cells": [
  {
   "cell_type": "code",
   "execution_count": null,
   "id": "7d5a6188",
   "metadata": {},
   "outputs": [],
   "source": [
    "from twisted.internet import reactor, defer\n",
    "\n",
    "def modify_value(value):\n",
    "    # Modify the value\n",
    "    modified_value = value + 10\n",
    "    return modified_value\n",
    "\n",
    "def callback(result, value):\n",
    "    # Handle the modified value\n",
    "    print(\"Modified value:\", result)\n",
    "    print(\"Original value:\", value)\n",
    "\n",
    "def outside_reactor(value):\n",
    "    # Create a Deferred object\n",
    "    d = defer.Deferred()\n",
    "\n",
    "    # Modify the value asynchronously\n",
    "    reactor.callLater(0, d.callback, modify_value(value))\n",
    "\n",
    "    # Add a callback to handle the result outside the reactor\n",
    "    d.addCallback(callback, value)\n",
    "\n",
    "# Value to modify\n",
    "original_value = 5\n",
    "\n",
    "# Call the function outside the reactor\n",
    "outside_reactor(original_value)\n",
    "\n",
    "# Start the reactor\n",
    "reactor.run()\n"
   ]
  },
  {
   "cell_type": "code",
   "execution_count": null,
   "id": "3f069166",
   "metadata": {},
   "outputs": [],
   "source": [
    "print(original_value)"
   ]
  },
  {
   "cell_type": "code",
   "execution_count": null,
   "id": "eb9d8498",
   "metadata": {},
   "outputs": [],
   "source": []
  }
 ],
 "metadata": {
  "kernelspec": {
   "display_name": "Python 3 (ipykernel)",
   "language": "python",
   "name": "python3"
  },
  "language_info": {
   "codemirror_mode": {
    "name": "ipython",
    "version": 3
   },
   "file_extension": ".py",
   "mimetype": "text/x-python",
   "name": "python",
   "nbconvert_exporter": "python",
   "pygments_lexer": "ipython3",
   "version": "3.11.2"
  }
 },
 "nbformat": 4,
 "nbformat_minor": 5
}
