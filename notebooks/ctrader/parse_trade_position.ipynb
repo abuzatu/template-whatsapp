{
 "cells": [
  {
   "cell_type": "markdown",
   "id": "f6b8d86e",
   "metadata": {},
   "source": [
    "# Parse the FIX message of a trade position \n",
    "\n",
    "to extract the position info from it\n",
    "\n",
    "they start with `35=AP`\n",
    "\n",
    "There are several, parsed with a while loop, from which we want to return an updated list of positions.\n",
    "\n",
    "Maybe we build a new list from scratch and then replace the older list? In current code not clear if positions are also removed.\n",
    "\n",
    "## Example\n",
    "\n",
    "`55=14|710=63|721=339825679|727=10|728=0|730=1.59431|702=1|704=1000|705=0|10=215|`\n",
    "\n",
    "## Relevant Fields\n",
    "\n",
    "\n",
    "* 55 = asset\n",
    "* 721 = position_id\n",
    "* 727 = total number of positions opened now (this one is one of them)\n",
    "* 728 = 0 valid response; 2 there is no open position\n",
    "* 721 = 1 for a valid request\n",
    "* 704 = quantity that is long; if short, this is 0\n",
    "* 705 = quantity that is short; if this is long, this is zero\n",
    "* 730 = settlement price; average cost price of the current position\n",
    "\n",
    "These below not seen in our messages though:\n",
    "\n",
    "* 1000 = Absolute TP\n",
    "* 1002 = Absolute SL\n",
    "* 1004 = Trailing SL\n",
    "* 1005 = Trigger Method SL\n",
    "* 1006 = Guaranteed SL"
   ]
  },
  {
   "cell_type": "code",
   "execution_count": null,
   "id": "60d0a27a",
   "metadata": {},
   "outputs": [],
   "source": [
    "import re\n",
    "\n",
    "from assets import assets_all, DICT_SYMBOL_ID_SYMBOL"
   ]
  },
  {
   "cell_type": "code",
   "execution_count": null,
   "id": "df5fc0ae",
   "metadata": {},
   "outputs": [],
   "source": [
    "DICT_SYMBOL_ID_SYMBOL"
   ]
  },
  {
   "cell_type": "code",
   "execution_count": null,
   "id": "4f762672",
   "metadata": {},
   "outputs": [],
   "source": [
    "messages = [\n",
    "    \"8=FIX.4.4|9=171|35=AP|34=2512|49=cServer|50=TRADE|52=20230610-20:00:43.780|56=demo.icmarkets.8739125|57=1McFMCBnn|55=14|710=63|721=339825679|727=10|728=0|730=1.59431|702=1|704=1000|705=0|10=215|\",\n",
    "    \"8=FIX.4.4|9=170|35=AP|34=2513|49=cServer|50=TRADE|52=20230610-20:00:43.780|56=demo.icmarkets.8739125|57=1McFMCBnn|55=1|710=63|721=339825684|727=10|728=0|730=1.07468|702=1|704=1000|705=0|10=162|\",\n",
    "    \"8=FIX.4.4|9=168|35=AP|34=2514|49=cServer|50=TRADE|52=20230610-20:00:43.780|56=demo.icmarkets.8739125|57=1McFMCBnn|55=41|710=63|721=339825688|727=10|728=0|730=1960.48|702=1|704=1|705=0|10=084|\",\n",
    "    \"8=FIX.4.4|9=169|35=AP|34=2515|49=cServer|50=TRADE|52=20230610-20:00:43.780|56=demo.icmarkets.8739125|57=1McFMCBnn|55=10019|710=63|721=339825690|727=10|728=0|730=70.4|702=1|704=50|705=0|10=120|\",\n",
    "    \"8=FIX.4.4|9=171|35=AP|34=2516|49=cServer|50=TRADE|52=20230610-20:00:43.780|56=demo.icmarkets.8739125|57=1McFMCBnn|55=10012|710=63|721=339825699|727=10|728=0|730=1868.28|702=1|704=1|705=0|10=230|\",\n",
    "    \"8=FIX.4.4|9=171|35=AP|34=2517|49=cServer|50=TRADE|52=20230610-20:00:43.780|56=demo.icmarkets.8739125|57=1McFMCBnn|55=10015|710=63|721=339825701|727=10|728=0|730=33889.5|702=1|704=1|705=0|10=221|\",\n",
    "    \"8=FIX.4.4|9=171|35=AP|34=2518|49=cServer|50=TRADE|52=20230610-20:00:43.780|56=demo.icmarkets.8739125|57=1McFMCBnn|55=10014|710=63|721=339825713|727=10|728=0|730=14556.8|702=1|704=1|705=0|10=217|\",\n",
    "    \"8=FIX.4.4|9=170|35=AP|34=2519|49=cServer|50=TRADE|52=20230610-20:00:43.780|56=demo.icmarkets.8739125|57=1McFMCBnn|55=10013|710=63|721=339825725|727=10|728=0|730=4305.5|702=1|704=1|705=0|10=159|\",\n",
    "    \"8=FIX.4.4|9=169|35=AP|34=2520|49=cServer|50=TRADE|52=20230610-20:00:43.780|56=demo.icmarkets.8739125|57=1McFMCBnn|55=10015|710=63|721=339826567|727=10|728=0|730=33881|702=1|704=1|705=0|10=126|\",\n",
    "    \"8=FIX.4.4|9=175|35=AP|34=2521|49=cServer|50=TRADE|52=20230610-20:00:43.780|56=demo.icmarkets.8739125|57=1McFMCBnn|55=10026|710=63|721=339826570|727=10|728=0|730=26439.83|702=1|704=0|705=0.01|10=160|\",\n",
    "]\n",
    "messages"
   ]
  },
  {
   "cell_type": "markdown",
   "id": "d278d908",
   "metadata": {},
   "source": [
    "## Explaining the match\n",
    "\n",
    "* to capture an integer: `re.search(\"721=(\\\\d+)\", full_message)`: This statement searches for the pattern `721=` followed by one or more digits `(\\d+)` within the `full_message` string. The parentheses around `\\d+` capture the digits as a group, allowing you to access the matched value later.\n",
    "\n",
    "* to capture a float we use the fact that it has `|` as a separator: `re.search(\"730=([\\d.]+)\\|\"`\n",
    "\n",
    "* `match := re.search(...)`: The walrus operator (`:=`) is used to assign the result of the search operation to the variable match. If a match is found, match will store a match object containing information about the match. If no match is found, match will be assigned `None`.\n",
    "\n",
    "* `match` is of type `<class 're.Match'>` and has a value of `match=<re.Match object; span=(127, 140), match='721=339825679'>`\n",
    "\n",
    "* `match.group(0)` returns all the string matched, so `721=339825679`\n",
    "\n",
    "* `match.group(1)` returns the digits after the equal sign, so `339825679`"
   ]
  },
  {
   "cell_type": "code",
   "execution_count": null,
   "id": "4e782d60",
   "metadata": {},
   "outputs": [],
   "source": [
    "def parse_one_position_message(full_message):\n",
    "    d = None\n",
    "    if match := re.search(\"721=(\\\\d+)\", full_message):\n",
    "        # print(type(match))\n",
    "        # print(f\"match={match}\")\n",
    "        # print(f\"match.group(0)={match.group(0)}\")\n",
    "        # print(f\"match.group(1)={match.group(1)}\")\n",
    "        d = {}\n",
    "        d[\"position_id\"] = match.group(1)\n",
    "        #\n",
    "        if match := re.search(\"55=(\\\\d+)\", full_message):\n",
    "            symbol_id = int(match.group(1))\n",
    "        else:\n",
    "            symbol_id = 0\n",
    "        # print(f\"symbold_id={symbol_id}\")\n",
    "        #\n",
    "        if match := re.search(\"704=([\\d.]+)\\|\", full_message):\n",
    "            quantity_buy = float(match.group(1))\n",
    "        else:\n",
    "            quantity_buy = 0\n",
    "        if match := re.search(\"705=([\\d.]+)\\|\", full_message):\n",
    "            quantity_sell = float(match.group(1))\n",
    "        else:\n",
    "            quantity_sell = 0.0\n",
    "        if quantity_buy > 0.0 and quantity_sell == 0.0:\n",
    "            direction = \"buy\"\n",
    "            quantity = quantity_buy\n",
    "        elif quantity_buy == 0.0 and quantity_sell > 0.0:\n",
    "            direction = \"sell\"\n",
    "            quantity = quantity_sell\n",
    "        else:\n",
    "            raise ValueError\n",
    "        #\n",
    "        if match := re.search(\"730=([\\d.]+)\\|\", full_message):\n",
    "            cost_price = float(match.group(1))\n",
    "        else:\n",
    "            cost_price = 0.0\n",
    "        # \n",
    "        if match := re.search(\"727=(\\\\d+)\", full_message):\n",
    "            num_opened_positions = int(match.group(1))\n",
    "        else:\n",
    "            num_opened_positions = 0\n",
    "        # build dictionary\n",
    "        d[\"symbol\"] = DICT_SYMBOL_ID_SYMBOL[symbol_id]\n",
    "        d[\"symbol_id\"] = symbol_id\n",
    "        d[\"direction\"] = direction\n",
    "        d[\"quantity\"] = quantity\n",
    "        d[\"cost_price\"] = cost_price\n",
    "        d[\"num_opened_positions\"] = num_opened_positions\n",
    "        \n",
    "    print(f\"d={d}\")\n",
    "    return d\n",
    "\n",
    "\n"
   ]
  },
  {
   "cell_type": "code",
   "execution_count": null,
   "id": "0504a49f",
   "metadata": {},
   "outputs": [],
   "source": [
    "positions = []\n",
    "for message in messages:\n",
    "    d = parse_one_position_message(message)\n",
    "    if d is not None:\n",
    "        positions.append(d)\n",
    "positions"
   ]
  },
  {
   "cell_type": "code",
   "execution_count": null,
   "id": "1d1246db",
   "metadata": {},
   "outputs": [],
   "source": [
    "try:\n",
    "    positions = []\n",
    "    for message in messages:\n",
    "        d = parse_one_position_message(message)\n",
    "        if d is not None:\n",
    "            positions.append(d)\n",
    "except:\n",
    "    print(f\"TRADE Unable to read from server\")"
   ]
  },
  {
   "cell_type": "code",
   "execution_count": null,
   "id": "e0b29175",
   "metadata": {},
   "outputs": [],
   "source": []
  }
 ],
 "metadata": {
  "kernelspec": {
   "display_name": "Python 3 (ipykernel)",
   "language": "python",
   "name": "python3"
  },
  "language_info": {
   "codemirror_mode": {
    "name": "ipython",
    "version": 3
   },
   "file_extension": ".py",
   "mimetype": "text/x-python",
   "name": "python",
   "nbconvert_exporter": "python",
   "pygments_lexer": "ipython3",
   "version": "3.9.9"
  }
 },
 "nbformat": 4,
 "nbformat_minor": 5
}
