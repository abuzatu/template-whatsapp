{
 "cells": [
  {
   "cell_type": "code",
   "execution_count": null,
   "id": "c4224f75",
   "metadata": {},
   "outputs": [],
   "source": [
    "import re\n",
    "import json"
   ]
  },
  {
   "cell_type": "code",
   "execution_count": null,
   "id": "52081363",
   "metadata": {},
   "outputs": [],
   "source": [
    "text = \"55=1024|1007=EURCZK|1008=3|55=1|1007=EURUSD|1008=5|55=1025|1007=NZDSGD|1008=4|55=2|1007=GBPUSD|1008=5|55=1026|1007=USDTHB|1008=3|55=3|1007=EURJPY|1008=3|55=4|1007=USDJPY|1008=3|55=5|1007=AUDUSD|1008=5|55=6|1007=USDCHF|1008=5|55=7|1007=GBPJPY|1008=3|55=8|1007=USDCAD|1008=5|55=9|1007=EURGBP|1008=5|55=10|1007=EURCHF|1008=5|55=11|1007=AUDJPY|1008=3|55=12|1007=NZDUSD|1008=5|55=13|1007=CHFJPY|1008=3|55=14|1007=EURAUD|1008=5|55=15|1007=CADJPY|1008=3|55=16|1007=GBPAUD|1008=5|55=10000|1007=AUS200|1008=2|55=17|1007=EURCAD|1008=5|55=10001|1007=STOXX50|1008=2|55=18|1007=AUDCAD|1008=5|55=10002|1007=F40|1008=2|55=19|1007=GBPCAD|1008=5|55=10003|1007=DE30|1008=2|55=20|1007=AUDNZD|1008=5|55=10004|1007=HK50|1008=2|55=10005|1007=IT40|1008=2|55=21|1007=NZDJPY|1008=3|55=10006|1007=JP225|1008=2|55=22|1007=USDNOK|1008=5|55=23|1007=AUDCHF|1008=5|55=10007|1007=AEX|1008=2|55=10008|1007=WIG20|1008=2|55=24|1007=USDMXN|1008=5|55=25|1007=GBPNZD|1008=5|55=10009|1007=ES35|1008=2|55=26|1007=EURNZD|1008=5|55=10010|1007=SMI|1008=2|55=27|1007=CADCHF|1008=5|55=10011|1007=UK100|1008=2|55=10012|1007=US2000|1008=2|55=28|1007=USDSGD|1008=5|55=10013|1007=US500|1008=2|55=29|1007=USDSEK|1008=5|55=10014|1007=USTEC|1008=2|55=30|1007=NZDCAD|1008=5|55=31|1007=EURSEK|1008=5|55=10015|1007=US30|1008=2|55=10016|1007=XPDUSD|1008=2|55=32|1007=GBPSGD|1008=5|55=10017|1007=XPTUSD|1008=2|55=33|1007=EURNOK|1008=5|55=34|1007=EURHUF|1008=3|55=10018|1007=XBRUSD|1008=2|55=35|1007=USDPLN|1008=5|55=10019|1007=XTIUSD|1008=2|55=10020|1007=XNGUSD|1008=3|55=36|1007=USDDKK|1008=5|55=37|1007=GBPNOK|1008=5|55=10021|1007=BRENT|1008=2|55=38|1007=AUDDKK|1008=5|55=10022|1007=WTI|1008=2|55=39|1007=NZDCHF|1008=5|55=10023|1007=EURUSDt|1008=5|55=40|1007=GBPCHF|1008=5|55=10024|1007=DE30t|1008=1|55=41|1007=XAUUSD|1008=2|55=10025|1007=CHINA50|1008=2|55=42|1007=XAGUSD|1008=3|55=10026|1007=BTCUSD|1008=2|55=43|1007=XAUEUR|1008=2|55=10027|1007=DSHUSD|1008=2|55=44|1007=XAGEUR|1008=3|55=10028|1007=BCHUSD|1008=2|55=10029|1007=ETHUSD|1008=2|55=10030|1007=LTCUSD|1008=2|55=10031|1007=GBPTRY|1008=5|55=10032|1007=XAUAUD|1008=2|55=10033|1007=CA60|1008=2|55=10034|1007=TecDE30|1008=2|55=10035|1007=MidDE60|1008=2|55=10036|1007=NETH25|1008=2|55=10037|1007=SWI20|1008=2|55=10038|1007=SG30|1008=2|55=10039|1007=CHINAH|1008=2|55=10040|1007=NOR25|1008=2|55=10041|1007=SA40|1008=2|55=10042|1007=SE30|1008=2|55=10043|1007=USCrude100|1008=2|55=10044|1007=UKBrent100|1008=2|55=10045|1007=MidDE50|1008=2|55=10046|1007=DE40|1008=2|55=10047|1007=XAUCHF|1008=2|55=10048|1007=XAUGBP|1008=2|55=10049|1007=XAUJPY|1008=0|55=10050|1007=XAGAUD|1008=3|55=10051|1007=IN50|1008=2|55=1000|1007=USDHKD|1008=4|55=1001|1007=AUDSGD|1008=5|55=1002|1007=CHFSGD|1008=5|55=1003|1007=EURDKK|1008=5|55=1004|1007=EURHKD|1008=5|55=1005|1007=EURPLN|1008=5|55=1006|1007=EURSGD|1008=5|55=1007|1007=EURTRY|1008=5|55=1008|1007=EURZAR|1008=5|55=1009|1007=GBPDKK|1008=5|55=1010|1007=GBPSEK|1008=5|55=1011|1007=NOKSEK|1008=5|55=1012|1007=USDTRY|1008=5|55=1013|1007=USDZAR|1008=5|55=1014|1007=NOKJPY|1008=3|55=1015|1007=SEKJPY|1008=3|55=1016|1007=SGDJPY|1008=3|55=1017|1007=USDHUF|1008=3|55=1018|1007=USDCZK|1008=4|55=1019|1007=USDRUB|1008=3|55=1020|1007=USDCNH|1008=5|55=1021|1007=GBPZAR|1008=4|55=1022|1007=EURMXN|1008=4|55=1023|1007=EURRUB|1008=3|10=128\"\n",
    "text"
   ]
  },
  {
   "cell_type": "code",
   "execution_count": null,
   "id": "a77e08f0",
   "metadata": {},
   "outputs": [],
   "source": [
    "len(s)"
   ]
  },
  {
   "cell_type": "code",
   "execution_count": null,
   "id": "b4b99803",
   "metadata": {},
   "outputs": [],
   "source": [
    "KEYWORDS_OPEN=[\"55=\"]"
   ]
  },
  {
   "cell_type": "code",
   "execution_count": null,
   "id": "7ac7a96d",
   "metadata": {},
   "outputs": [],
   "source": [
    "pattern = rf\"(?:\\b({'|'.join(KEYWORDS_OPEN)})\\b)\"\n",
    "word_list = re.split(pattern, text)"
   ]
  },
  {
   "cell_type": "code",
   "execution_count": null,
   "id": "ab63b9e7",
   "metadata": {},
   "outputs": [],
   "source": [
    "# remove empty strings and whitespace\n",
    "word_list = [word.strip() for word in word_list if word.strip()]"
   ]
  },
  {
   "cell_type": "code",
   "execution_count": null,
   "id": "d408f90d",
   "metadata": {},
   "outputs": [],
   "source": [
    "word_list"
   ]
  },
  {
   "cell_type": "code",
   "execution_count": null,
   "id": "4b8ba6c7",
   "metadata": {},
   "outputs": [],
   "source": [
    "# print(f\"word_list={word_list}\")\n",
    "# create the text for each order\n",
    "order_texts = []\n",
    "for word in word_list:\n",
    "    # print(f\"word={word}\")\n",
    "    if word in KEYWORDS_OPEN:\n",
    "        # a new word starts\n",
    "        # print(f\"A new order starts\")\n",
    "        order_texts.append(word)\n",
    "    else:\n",
    "        # current word continues\n",
    "        order_texts[-1] += \"\" + word"
   ]
  },
  {
   "cell_type": "code",
   "execution_count": null,
   "id": "10c0bf15",
   "metadata": {},
   "outputs": [],
   "source": [
    "assets = {}\n",
    "for text_one in order_texts:\n",
    "    # print(f\"New text_one={text_one}\")\n",
    "    elements = text_one[:-1].split(\"|\")\n",
    "    # result[\"symbol\"] = elements[1].split(\"=\")[-1]\n",
    "    # result[\"symbol_id\"] = int(elements[0].split(\"=\")[-1])\n",
    "    # result[\"symbol_num_digits\"] = int(elements[2].split(\"=\")[-1])\n",
    "    assets[elements[1].split(\"=\")[-1]] = {\n",
    "        \"symbol_id\": int(elements[0].split(\"=\")[-1]),\n",
    "        \"symbol_num_digits\": int(elements[2].split(\"=\")[-1]),\n",
    "    }\n",
    "assets     "
   ]
  },
  {
   "cell_type": "code",
   "execution_count": null,
   "id": "da263c64",
   "metadata": {},
   "outputs": [],
   "source": [
    "# serialize\n",
    "# Convert dictionary to JSON string\n",
    "json_data = json.dumps(assets)"
   ]
  },
  {
   "cell_type": "code",
   "execution_count": null,
   "id": "719a052b",
   "metadata": {},
   "outputs": [],
   "source": [
    "# Save JSON string to a text file\n",
    "filename = \"assets.json\"\n",
    "with open(filename, 'w') as file:\n",
    "    file.write(json_data)"
   ]
  },
  {
   "cell_type": "code",
   "execution_count": null,
   "id": "62b88cf5",
   "metadata": {},
   "outputs": [],
   "source": [
    "assets.keys()"
   ]
  },
  {
   "cell_type": "code",
   "execution_count": null,
   "id": "d7459bc7",
   "metadata": {},
   "outputs": [],
   "source": [
    "len(assets.keys())"
   ]
  },
  {
   "cell_type": "code",
   "execution_count": null,
   "id": "69c4cdb0",
   "metadata": {},
   "outputs": [],
   "source": [
    "CURRENCIES = [\n",
    "    \"AUD\",\n",
    "    \"CAD\",\n",
    "    \"CHF\",\n",
    "    \"CNH\",\n",
    "    \"CZK\",\n",
    "    \"DKK\",\n",
    "    \"EUR\",\n",
    "    \"GBP\",\n",
    "    \"HKD\",\n",
    "    \"HUF\",\n",
    "    \"JPY\",\n",
    "    \"MXN\",\n",
    "    \"NOK\",\n",
    "    \"NZD\",\n",
    "    \"PLN\",\n",
    "    \"RUB\",\n",
    "    \"SEK\",\n",
    "    \"SGD\",\n",
    "    \"THB\",\n",
    "    \"TRY\",\n",
    "    \"ZAR\",\n",
    "]\n",
    "\n",
    "def contains_one_of_list(text, l):\n",
    "    result = False\n",
    "    for e in l:\n",
    "        if e in text:\n",
    "            result = result or True\n",
    "    return result\n",
    "\n",
    "[key for key in assets.keys() if contains_one_of_list(key, CURRENCIES)]"
   ]
  },
  {
   "cell_type": "code",
   "execution_count": null,
   "id": "f0a0c241",
   "metadata": {},
   "outputs": [],
   "source": [
    "\"USDHUF\" in assets.keys()"
   ]
  },
  {
   "cell_type": "code",
   "execution_count": null,
   "id": "398091df",
   "metadata": {},
   "outputs": [],
   "source": []
  }
 ],
 "metadata": {
  "kernelspec": {
   "display_name": "Python 3 (ipykernel)",
   "language": "python",
   "name": "python3"
  },
  "language_info": {
   "codemirror_mode": {
    "name": "ipython",
    "version": 3
   },
   "file_extension": ".py",
   "mimetype": "text/x-python",
   "name": "python",
   "nbconvert_exporter": "python",
   "pygments_lexer": "ipython3",
   "version": "3.11.2"
  }
 },
 "nbformat": 4,
 "nbformat_minor": 5
}
